{
  "nbformat": 4,
  "nbformat_minor": 0,
  "metadata": {
    "colab": {
      "provenance": [],
      "gpuType": "T4",
      "authorship_tag": "ABX9TyOKRd8gfJXy6ojkdQ3tGGxZ"
    },
    "kernelspec": {
      "name": "python3",
      "display_name": "Python 3"
    },
    "language_info": {
      "name": "python"
    },
    "accelerator": "GPU",
    "widgets": {
      "application/vnd.jupyter.widget-state+json": {
        "91b9ba2c9c1c48dc8056ae756dd673d8": {
          "model_module": "@jupyter-widgets/controls",
          "model_name": "HBoxModel",
          "model_module_version": "1.5.0",
          "state": {
            "_dom_classes": [],
            "_model_module": "@jupyter-widgets/controls",
            "_model_module_version": "1.5.0",
            "_model_name": "HBoxModel",
            "_view_count": null,
            "_view_module": "@jupyter-widgets/controls",
            "_view_module_version": "1.5.0",
            "_view_name": "HBoxView",
            "box_style": "",
            "children": [
              "IPY_MODEL_7ef20ff6a5984f36899101c7942f0c9e",
              "IPY_MODEL_0a79fd1143734779b93598286bd4999e",
              "IPY_MODEL_a3944c2146c64ac18625646ed09a413b"
            ],
            "layout": "IPY_MODEL_f2feba50297f49e8a27a95cbb9b26e8e"
          }
        },
        "7ef20ff6a5984f36899101c7942f0c9e": {
          "model_module": "@jupyter-widgets/controls",
          "model_name": "HTMLModel",
          "model_module_version": "1.5.0",
          "state": {
            "_dom_classes": [],
            "_model_module": "@jupyter-widgets/controls",
            "_model_module_version": "1.5.0",
            "_model_name": "HTMLModel",
            "_view_count": null,
            "_view_module": "@jupyter-widgets/controls",
            "_view_module_version": "1.5.0",
            "_view_name": "HTMLView",
            "description": "",
            "description_tooltip": null,
            "layout": "IPY_MODEL_43a4f082baff4ec4a4437916696eec77",
            "placeholder": "​",
            "style": "IPY_MODEL_587b815672f94045bafb7c5e680f60d9",
            "value": "Batches: 100%"
          }
        },
        "0a79fd1143734779b93598286bd4999e": {
          "model_module": "@jupyter-widgets/controls",
          "model_name": "FloatProgressModel",
          "model_module_version": "1.5.0",
          "state": {
            "_dom_classes": [],
            "_model_module": "@jupyter-widgets/controls",
            "_model_module_version": "1.5.0",
            "_model_name": "FloatProgressModel",
            "_view_count": null,
            "_view_module": "@jupyter-widgets/controls",
            "_view_module_version": "1.5.0",
            "_view_name": "ProgressView",
            "bar_style": "success",
            "description": "",
            "description_tooltip": null,
            "layout": "IPY_MODEL_c2c81720ffd44824994f94f368a5aa0d",
            "max": 1,
            "min": 0,
            "orientation": "horizontal",
            "style": "IPY_MODEL_8f62616d48c54c5089aa332f8a73bca7",
            "value": 1
          }
        },
        "a3944c2146c64ac18625646ed09a413b": {
          "model_module": "@jupyter-widgets/controls",
          "model_name": "HTMLModel",
          "model_module_version": "1.5.0",
          "state": {
            "_dom_classes": [],
            "_model_module": "@jupyter-widgets/controls",
            "_model_module_version": "1.5.0",
            "_model_name": "HTMLModel",
            "_view_count": null,
            "_view_module": "@jupyter-widgets/controls",
            "_view_module_version": "1.5.0",
            "_view_name": "HTMLView",
            "description": "",
            "description_tooltip": null,
            "layout": "IPY_MODEL_a36f6c88bb8e4b2e810111b763d91310",
            "placeholder": "​",
            "style": "IPY_MODEL_6ae53bab24d044389ba5d0482b75a018",
            "value": " 1/1 [00:01&lt;00:00,  1.63s/it]"
          }
        },
        "f2feba50297f49e8a27a95cbb9b26e8e": {
          "model_module": "@jupyter-widgets/base",
          "model_name": "LayoutModel",
          "model_module_version": "1.2.0",
          "state": {
            "_model_module": "@jupyter-widgets/base",
            "_model_module_version": "1.2.0",
            "_model_name": "LayoutModel",
            "_view_count": null,
            "_view_module": "@jupyter-widgets/base",
            "_view_module_version": "1.2.0",
            "_view_name": "LayoutView",
            "align_content": null,
            "align_items": null,
            "align_self": null,
            "border": null,
            "bottom": null,
            "display": null,
            "flex": null,
            "flex_flow": null,
            "grid_area": null,
            "grid_auto_columns": null,
            "grid_auto_flow": null,
            "grid_auto_rows": null,
            "grid_column": null,
            "grid_gap": null,
            "grid_row": null,
            "grid_template_areas": null,
            "grid_template_columns": null,
            "grid_template_rows": null,
            "height": null,
            "justify_content": null,
            "justify_items": null,
            "left": null,
            "margin": null,
            "max_height": null,
            "max_width": null,
            "min_height": null,
            "min_width": null,
            "object_fit": null,
            "object_position": null,
            "order": null,
            "overflow": null,
            "overflow_x": null,
            "overflow_y": null,
            "padding": null,
            "right": null,
            "top": null,
            "visibility": null,
            "width": null
          }
        },
        "43a4f082baff4ec4a4437916696eec77": {
          "model_module": "@jupyter-widgets/base",
          "model_name": "LayoutModel",
          "model_module_version": "1.2.0",
          "state": {
            "_model_module": "@jupyter-widgets/base",
            "_model_module_version": "1.2.0",
            "_model_name": "LayoutModel",
            "_view_count": null,
            "_view_module": "@jupyter-widgets/base",
            "_view_module_version": "1.2.0",
            "_view_name": "LayoutView",
            "align_content": null,
            "align_items": null,
            "align_self": null,
            "border": null,
            "bottom": null,
            "display": null,
            "flex": null,
            "flex_flow": null,
            "grid_area": null,
            "grid_auto_columns": null,
            "grid_auto_flow": null,
            "grid_auto_rows": null,
            "grid_column": null,
            "grid_gap": null,
            "grid_row": null,
            "grid_template_areas": null,
            "grid_template_columns": null,
            "grid_template_rows": null,
            "height": null,
            "justify_content": null,
            "justify_items": null,
            "left": null,
            "margin": null,
            "max_height": null,
            "max_width": null,
            "min_height": null,
            "min_width": null,
            "object_fit": null,
            "object_position": null,
            "order": null,
            "overflow": null,
            "overflow_x": null,
            "overflow_y": null,
            "padding": null,
            "right": null,
            "top": null,
            "visibility": null,
            "width": null
          }
        },
        "587b815672f94045bafb7c5e680f60d9": {
          "model_module": "@jupyter-widgets/controls",
          "model_name": "DescriptionStyleModel",
          "model_module_version": "1.5.0",
          "state": {
            "_model_module": "@jupyter-widgets/controls",
            "_model_module_version": "1.5.0",
            "_model_name": "DescriptionStyleModel",
            "_view_count": null,
            "_view_module": "@jupyter-widgets/base",
            "_view_module_version": "1.2.0",
            "_view_name": "StyleView",
            "description_width": ""
          }
        },
        "c2c81720ffd44824994f94f368a5aa0d": {
          "model_module": "@jupyter-widgets/base",
          "model_name": "LayoutModel",
          "model_module_version": "1.2.0",
          "state": {
            "_model_module": "@jupyter-widgets/base",
            "_model_module_version": "1.2.0",
            "_model_name": "LayoutModel",
            "_view_count": null,
            "_view_module": "@jupyter-widgets/base",
            "_view_module_version": "1.2.0",
            "_view_name": "LayoutView",
            "align_content": null,
            "align_items": null,
            "align_self": null,
            "border": null,
            "bottom": null,
            "display": null,
            "flex": null,
            "flex_flow": null,
            "grid_area": null,
            "grid_auto_columns": null,
            "grid_auto_flow": null,
            "grid_auto_rows": null,
            "grid_column": null,
            "grid_gap": null,
            "grid_row": null,
            "grid_template_areas": null,
            "grid_template_columns": null,
            "grid_template_rows": null,
            "height": null,
            "justify_content": null,
            "justify_items": null,
            "left": null,
            "margin": null,
            "max_height": null,
            "max_width": null,
            "min_height": null,
            "min_width": null,
            "object_fit": null,
            "object_position": null,
            "order": null,
            "overflow": null,
            "overflow_x": null,
            "overflow_y": null,
            "padding": null,
            "right": null,
            "top": null,
            "visibility": null,
            "width": null
          }
        },
        "8f62616d48c54c5089aa332f8a73bca7": {
          "model_module": "@jupyter-widgets/controls",
          "model_name": "ProgressStyleModel",
          "model_module_version": "1.5.0",
          "state": {
            "_model_module": "@jupyter-widgets/controls",
            "_model_module_version": "1.5.0",
            "_model_name": "ProgressStyleModel",
            "_view_count": null,
            "_view_module": "@jupyter-widgets/base",
            "_view_module_version": "1.2.0",
            "_view_name": "StyleView",
            "bar_color": null,
            "description_width": ""
          }
        },
        "a36f6c88bb8e4b2e810111b763d91310": {
          "model_module": "@jupyter-widgets/base",
          "model_name": "LayoutModel",
          "model_module_version": "1.2.0",
          "state": {
            "_model_module": "@jupyter-widgets/base",
            "_model_module_version": "1.2.0",
            "_model_name": "LayoutModel",
            "_view_count": null,
            "_view_module": "@jupyter-widgets/base",
            "_view_module_version": "1.2.0",
            "_view_name": "LayoutView",
            "align_content": null,
            "align_items": null,
            "align_self": null,
            "border": null,
            "bottom": null,
            "display": null,
            "flex": null,
            "flex_flow": null,
            "grid_area": null,
            "grid_auto_columns": null,
            "grid_auto_flow": null,
            "grid_auto_rows": null,
            "grid_column": null,
            "grid_gap": null,
            "grid_row": null,
            "grid_template_areas": null,
            "grid_template_columns": null,
            "grid_template_rows": null,
            "height": null,
            "justify_content": null,
            "justify_items": null,
            "left": null,
            "margin": null,
            "max_height": null,
            "max_width": null,
            "min_height": null,
            "min_width": null,
            "object_fit": null,
            "object_position": null,
            "order": null,
            "overflow": null,
            "overflow_x": null,
            "overflow_y": null,
            "padding": null,
            "right": null,
            "top": null,
            "visibility": null,
            "width": null
          }
        },
        "6ae53bab24d044389ba5d0482b75a018": {
          "model_module": "@jupyter-widgets/controls",
          "model_name": "DescriptionStyleModel",
          "model_module_version": "1.5.0",
          "state": {
            "_model_module": "@jupyter-widgets/controls",
            "_model_module_version": "1.5.0",
            "_model_name": "DescriptionStyleModel",
            "_view_count": null,
            "_view_module": "@jupyter-widgets/base",
            "_view_module_version": "1.2.0",
            "_view_name": "StyleView",
            "description_width": ""
          }
        },
        "ff960a7284914a9baec96377d66b9f1e": {
          "model_module": "@jupyter-widgets/controls",
          "model_name": "HBoxModel",
          "model_module_version": "1.5.0",
          "state": {
            "_dom_classes": [],
            "_model_module": "@jupyter-widgets/controls",
            "_model_module_version": "1.5.0",
            "_model_name": "HBoxModel",
            "_view_count": null,
            "_view_module": "@jupyter-widgets/controls",
            "_view_module_version": "1.5.0",
            "_view_name": "HBoxView",
            "box_style": "",
            "children": [
              "IPY_MODEL_37b0a49ee42f420fbbd0bfbfd7733fd8",
              "IPY_MODEL_843277ff968240beb207fdd8fe847e93",
              "IPY_MODEL_dba44b6ba8334a18b1d098ab9167cb4a"
            ],
            "layout": "IPY_MODEL_0891929314f74d83a53978c9bee5bb62"
          }
        },
        "37b0a49ee42f420fbbd0bfbfd7733fd8": {
          "model_module": "@jupyter-widgets/controls",
          "model_name": "HTMLModel",
          "model_module_version": "1.5.0",
          "state": {
            "_dom_classes": [],
            "_model_module": "@jupyter-widgets/controls",
            "_model_module_version": "1.5.0",
            "_model_name": "HTMLModel",
            "_view_count": null,
            "_view_module": "@jupyter-widgets/controls",
            "_view_module_version": "1.5.0",
            "_view_name": "HTMLView",
            "description": "",
            "description_tooltip": null,
            "layout": "IPY_MODEL_bf66c5ea1f7d4324a27a7309203825bd",
            "placeholder": "​",
            "style": "IPY_MODEL_79a3935417824c39827094ce8c5629af",
            "value": "Batches: 100%"
          }
        },
        "843277ff968240beb207fdd8fe847e93": {
          "model_module": "@jupyter-widgets/controls",
          "model_name": "FloatProgressModel",
          "model_module_version": "1.5.0",
          "state": {
            "_dom_classes": [],
            "_model_module": "@jupyter-widgets/controls",
            "_model_module_version": "1.5.0",
            "_model_name": "FloatProgressModel",
            "_view_count": null,
            "_view_module": "@jupyter-widgets/controls",
            "_view_module_version": "1.5.0",
            "_view_name": "ProgressView",
            "bar_style": "success",
            "description": "",
            "description_tooltip": null,
            "layout": "IPY_MODEL_35e65f1b2d714b2d9a5e372a17cc92cb",
            "max": 1,
            "min": 0,
            "orientation": "horizontal",
            "style": "IPY_MODEL_3b425f71771a4ce0a2dbf498396cfd3e",
            "value": 1
          }
        },
        "dba44b6ba8334a18b1d098ab9167cb4a": {
          "model_module": "@jupyter-widgets/controls",
          "model_name": "HTMLModel",
          "model_module_version": "1.5.0",
          "state": {
            "_dom_classes": [],
            "_model_module": "@jupyter-widgets/controls",
            "_model_module_version": "1.5.0",
            "_model_name": "HTMLModel",
            "_view_count": null,
            "_view_module": "@jupyter-widgets/controls",
            "_view_module_version": "1.5.0",
            "_view_name": "HTMLView",
            "description": "",
            "description_tooltip": null,
            "layout": "IPY_MODEL_d1f1e6c808014fb8a1b953576969201d",
            "placeholder": "​",
            "style": "IPY_MODEL_677e5a05159541b39460bd1fe1b1b517",
            "value": " 1/1 [00:00&lt;00:00, 14.42it/s]"
          }
        },
        "0891929314f74d83a53978c9bee5bb62": {
          "model_module": "@jupyter-widgets/base",
          "model_name": "LayoutModel",
          "model_module_version": "1.2.0",
          "state": {
            "_model_module": "@jupyter-widgets/base",
            "_model_module_version": "1.2.0",
            "_model_name": "LayoutModel",
            "_view_count": null,
            "_view_module": "@jupyter-widgets/base",
            "_view_module_version": "1.2.0",
            "_view_name": "LayoutView",
            "align_content": null,
            "align_items": null,
            "align_self": null,
            "border": null,
            "bottom": null,
            "display": null,
            "flex": null,
            "flex_flow": null,
            "grid_area": null,
            "grid_auto_columns": null,
            "grid_auto_flow": null,
            "grid_auto_rows": null,
            "grid_column": null,
            "grid_gap": null,
            "grid_row": null,
            "grid_template_areas": null,
            "grid_template_columns": null,
            "grid_template_rows": null,
            "height": null,
            "justify_content": null,
            "justify_items": null,
            "left": null,
            "margin": null,
            "max_height": null,
            "max_width": null,
            "min_height": null,
            "min_width": null,
            "object_fit": null,
            "object_position": null,
            "order": null,
            "overflow": null,
            "overflow_x": null,
            "overflow_y": null,
            "padding": null,
            "right": null,
            "top": null,
            "visibility": null,
            "width": null
          }
        },
        "bf66c5ea1f7d4324a27a7309203825bd": {
          "model_module": "@jupyter-widgets/base",
          "model_name": "LayoutModel",
          "model_module_version": "1.2.0",
          "state": {
            "_model_module": "@jupyter-widgets/base",
            "_model_module_version": "1.2.0",
            "_model_name": "LayoutModel",
            "_view_count": null,
            "_view_module": "@jupyter-widgets/base",
            "_view_module_version": "1.2.0",
            "_view_name": "LayoutView",
            "align_content": null,
            "align_items": null,
            "align_self": null,
            "border": null,
            "bottom": null,
            "display": null,
            "flex": null,
            "flex_flow": null,
            "grid_area": null,
            "grid_auto_columns": null,
            "grid_auto_flow": null,
            "grid_auto_rows": null,
            "grid_column": null,
            "grid_gap": null,
            "grid_row": null,
            "grid_template_areas": null,
            "grid_template_columns": null,
            "grid_template_rows": null,
            "height": null,
            "justify_content": null,
            "justify_items": null,
            "left": null,
            "margin": null,
            "max_height": null,
            "max_width": null,
            "min_height": null,
            "min_width": null,
            "object_fit": null,
            "object_position": null,
            "order": null,
            "overflow": null,
            "overflow_x": null,
            "overflow_y": null,
            "padding": null,
            "right": null,
            "top": null,
            "visibility": null,
            "width": null
          }
        },
        "79a3935417824c39827094ce8c5629af": {
          "model_module": "@jupyter-widgets/controls",
          "model_name": "DescriptionStyleModel",
          "model_module_version": "1.5.0",
          "state": {
            "_model_module": "@jupyter-widgets/controls",
            "_model_module_version": "1.5.0",
            "_model_name": "DescriptionStyleModel",
            "_view_count": null,
            "_view_module": "@jupyter-widgets/base",
            "_view_module_version": "1.2.0",
            "_view_name": "StyleView",
            "description_width": ""
          }
        },
        "35e65f1b2d714b2d9a5e372a17cc92cb": {
          "model_module": "@jupyter-widgets/base",
          "model_name": "LayoutModel",
          "model_module_version": "1.2.0",
          "state": {
            "_model_module": "@jupyter-widgets/base",
            "_model_module_version": "1.2.0",
            "_model_name": "LayoutModel",
            "_view_count": null,
            "_view_module": "@jupyter-widgets/base",
            "_view_module_version": "1.2.0",
            "_view_name": "LayoutView",
            "align_content": null,
            "align_items": null,
            "align_self": null,
            "border": null,
            "bottom": null,
            "display": null,
            "flex": null,
            "flex_flow": null,
            "grid_area": null,
            "grid_auto_columns": null,
            "grid_auto_flow": null,
            "grid_auto_rows": null,
            "grid_column": null,
            "grid_gap": null,
            "grid_row": null,
            "grid_template_areas": null,
            "grid_template_columns": null,
            "grid_template_rows": null,
            "height": null,
            "justify_content": null,
            "justify_items": null,
            "left": null,
            "margin": null,
            "max_height": null,
            "max_width": null,
            "min_height": null,
            "min_width": null,
            "object_fit": null,
            "object_position": null,
            "order": null,
            "overflow": null,
            "overflow_x": null,
            "overflow_y": null,
            "padding": null,
            "right": null,
            "top": null,
            "visibility": null,
            "width": null
          }
        },
        "3b425f71771a4ce0a2dbf498396cfd3e": {
          "model_module": "@jupyter-widgets/controls",
          "model_name": "ProgressStyleModel",
          "model_module_version": "1.5.0",
          "state": {
            "_model_module": "@jupyter-widgets/controls",
            "_model_module_version": "1.5.0",
            "_model_name": "ProgressStyleModel",
            "_view_count": null,
            "_view_module": "@jupyter-widgets/base",
            "_view_module_version": "1.2.0",
            "_view_name": "StyleView",
            "bar_color": null,
            "description_width": ""
          }
        },
        "d1f1e6c808014fb8a1b953576969201d": {
          "model_module": "@jupyter-widgets/base",
          "model_name": "LayoutModel",
          "model_module_version": "1.2.0",
          "state": {
            "_model_module": "@jupyter-widgets/base",
            "_model_module_version": "1.2.0",
            "_model_name": "LayoutModel",
            "_view_count": null,
            "_view_module": "@jupyter-widgets/base",
            "_view_module_version": "1.2.0",
            "_view_name": "LayoutView",
            "align_content": null,
            "align_items": null,
            "align_self": null,
            "border": null,
            "bottom": null,
            "display": null,
            "flex": null,
            "flex_flow": null,
            "grid_area": null,
            "grid_auto_columns": null,
            "grid_auto_flow": null,
            "grid_auto_rows": null,
            "grid_column": null,
            "grid_gap": null,
            "grid_row": null,
            "grid_template_areas": null,
            "grid_template_columns": null,
            "grid_template_rows": null,
            "height": null,
            "justify_content": null,
            "justify_items": null,
            "left": null,
            "margin": null,
            "max_height": null,
            "max_width": null,
            "min_height": null,
            "min_width": null,
            "object_fit": null,
            "object_position": null,
            "order": null,
            "overflow": null,
            "overflow_x": null,
            "overflow_y": null,
            "padding": null,
            "right": null,
            "top": null,
            "visibility": null,
            "width": null
          }
        },
        "677e5a05159541b39460bd1fe1b1b517": {
          "model_module": "@jupyter-widgets/controls",
          "model_name": "DescriptionStyleModel",
          "model_module_version": "1.5.0",
          "state": {
            "_model_module": "@jupyter-widgets/controls",
            "_model_module_version": "1.5.0",
            "_model_name": "DescriptionStyleModel",
            "_view_count": null,
            "_view_module": "@jupyter-widgets/base",
            "_view_module_version": "1.2.0",
            "_view_name": "StyleView",
            "description_width": ""
          }
        }
      }
    }
  },
  "cells": [
    {
      "cell_type": "code",
      "source": [],
      "metadata": {
        "id": "prK9JpwTKxX5"
      },
      "execution_count": null,
      "outputs": []
    },
    {
      "cell_type": "markdown",
      "source": [
        "# RAG Model for Junior AI Engineer\n",
        "\n",
        "This notebook is an end-to-end walkthrough of a RAG pipeline, from the indexing, to the query until demo deployment on Gradio. It is a simple RAG pipeline set to answer questions on the user based on their data, in my case I'm making use of my resume of course, among other things!\n",
        "\n",
        "\n",
        "## Preparing the notebook\n",
        "\n",
        "This project was mainly done on Google Colaboratory and as such have some code specific to it. As seen below the notebook must have the user's drive mounted or connected to it to be able to access their storage.\n",
        "\n",
        "Google Drive was utilized to store necessary documents to be processed (i.e. Resume, Cover Letter)"
      ],
      "metadata": {
        "id": "Uw8uk8k4K5Iy"
      }
    },
    {
      "cell_type": "code",
      "execution_count": null,
      "metadata": {
        "colab": {
          "base_uri": "https://localhost:8080/"
        },
        "id": "tXxqkpHlJy3V",
        "outputId": "37bafb61-5456-4633-8541-3f07f416b306"
      },
      "outputs": [
        {
          "output_type": "stream",
          "name": "stdout",
          "text": [
            "Drive already mounted at /content/drive; to attempt to forcibly remount, call drive.mount(\"/content/drive\", force_remount=True).\n"
          ]
        }
      ],
      "source": [
        "#Mounting the drive to access data storage\n",
        "from google.colab import drive\n",
        "drive.mount('/content/drive')"
      ]
    },
    {
      "cell_type": "markdown",
      "source": [
        "Next, to help in debugging we import logging. This is recommend by Haystack (the open source framework we will be using) for the implementation of their modules."
      ],
      "metadata": {
        "id": "F8eKGJDnLp6F"
      }
    },
    {
      "cell_type": "code",
      "source": [
        "#For better debugging using Haystack\n",
        "import logging\n",
        "\n",
        "logging.basicConfig(format=\"%(levelname)s - %(name)s -  %(message)s\",\n",
        "                    level=logging.WARNING)\n",
        "logging.getLogger(\"haystack\").setLevel(logging.ERROR)"
      ],
      "metadata": {
        "id": "j5NSbulCKEV2"
      },
      "execution_count": null,
      "outputs": []
    },
    {
      "cell_type": "markdown",
      "source": [
        "## Packages and Dependencies\n",
        "\n",
        "Let's install the necessary dependencies. We'll be making use of the following packages.\n",
        "\n",
        "One of the first decisions to make when creating a RAG pipeline is what framework to use, as mentione dearlier we will be using haystack."
      ],
      "metadata": {
        "id": "mEXsjdVPMJ6A"
      }
    },
    {
      "cell_type": "code",
      "source": [
        "%%bash\n",
        "\n",
        "pip install haystack-ai\n",
        "pip install \"sentence-transformers>=3.0.0\"\n",
        "pip install google-ai-haystack\n",
        "pip install markdown-it-py mdit_plain pypdf\n",
        "pip install gdown\n",
        "pip install trafilatura\n",
        "pip install chroma-haystack\n",
        "pip install gradio"
      ],
      "metadata": {
        "colab": {
          "base_uri": "https://localhost:8080/"
        },
        "collapsed": true,
        "id": "0ZTGiFFtKfvF",
        "outputId": "1aa3363d-c01b-4b37-d10a-eb4dec67c49e"
      },
      "execution_count": null,
      "outputs": [
        {
          "output_type": "stream",
          "name": "stdout",
          "text": [
            "Requirement already satisfied: haystack-ai in /usr/local/lib/python3.10/dist-packages (2.6.1)\n",
            "Requirement already satisfied: haystack-experimental in /usr/local/lib/python3.10/dist-packages (from haystack-ai) (0.2.0)\n",
            "Requirement already satisfied: jinja2 in /usr/local/lib/python3.10/dist-packages (from haystack-ai) (3.1.4)\n",
            "Requirement already satisfied: lazy-imports in /usr/local/lib/python3.10/dist-packages (from haystack-ai) (0.3.1)\n",
            "Requirement already satisfied: more-itertools in /usr/local/lib/python3.10/dist-packages (from haystack-ai) (10.5.0)\n",
            "Requirement already satisfied: networkx in /usr/local/lib/python3.10/dist-packages (from haystack-ai) (3.3)\n",
            "Requirement already satisfied: numpy<2 in /usr/local/lib/python3.10/dist-packages (from haystack-ai) (1.26.4)\n",
            "Requirement already satisfied: openai>=1.1.0 in /usr/local/lib/python3.10/dist-packages (from haystack-ai) (1.52.0)\n",
            "Requirement already satisfied: pandas in /usr/local/lib/python3.10/dist-packages (from haystack-ai) (2.1.4)\n",
            "Requirement already satisfied: posthog in /usr/local/lib/python3.10/dist-packages (from haystack-ai) (3.7.0)\n",
            "Requirement already satisfied: python-dateutil in /usr/local/lib/python3.10/dist-packages (from haystack-ai) (2.8.2)\n",
            "Requirement already satisfied: pyyaml in /usr/local/lib/python3.10/dist-packages (from haystack-ai) (6.0.2)\n",
            "Requirement already satisfied: requests in /usr/local/lib/python3.10/dist-packages (from haystack-ai) (2.32.3)\n",
            "Requirement already satisfied: tenacity!=8.4.0 in /usr/local/lib/python3.10/dist-packages (from haystack-ai) (9.0.0)\n",
            "Requirement already satisfied: tqdm in /usr/local/lib/python3.10/dist-packages (from haystack-ai) (4.66.5)\n",
            "Requirement already satisfied: typing-extensions>=4.7 in /usr/local/lib/python3.10/dist-packages (from haystack-ai) (4.12.2)\n",
            "Requirement already satisfied: anyio<5,>=3.5.0 in /usr/local/lib/python3.10/dist-packages (from openai>=1.1.0->haystack-ai) (3.7.1)\n",
            "Requirement already satisfied: distro<2,>=1.7.0 in /usr/lib/python3/dist-packages (from openai>=1.1.0->haystack-ai) (1.7.0)\n",
            "Requirement already satisfied: httpx<1,>=0.23.0 in /usr/local/lib/python3.10/dist-packages (from openai>=1.1.0->haystack-ai) (0.27.2)\n",
            "Requirement already satisfied: jiter<1,>=0.4.0 in /usr/local/lib/python3.10/dist-packages (from openai>=1.1.0->haystack-ai) (0.6.1)\n",
            "Requirement already satisfied: pydantic<3,>=1.9.0 in /usr/local/lib/python3.10/dist-packages (from openai>=1.1.0->haystack-ai) (2.9.2)\n",
            "Requirement already satisfied: sniffio in /usr/local/lib/python3.10/dist-packages (from openai>=1.1.0->haystack-ai) (1.3.1)\n",
            "Requirement already satisfied: MarkupSafe>=2.0 in /usr/local/lib/python3.10/dist-packages (from jinja2->haystack-ai) (2.1.5)\n",
            "Requirement already satisfied: pytz>=2020.1 in /usr/local/lib/python3.10/dist-packages (from pandas->haystack-ai) (2024.2)\n",
            "Requirement already satisfied: tzdata>=2022.1 in /usr/local/lib/python3.10/dist-packages (from pandas->haystack-ai) (2024.1)\n",
            "Requirement already satisfied: six>=1.5 in /usr/local/lib/python3.10/dist-packages (from python-dateutil->haystack-ai) (1.16.0)\n",
            "Requirement already satisfied: monotonic>=1.5 in /usr/local/lib/python3.10/dist-packages (from posthog->haystack-ai) (1.6)\n",
            "Requirement already satisfied: backoff>=1.10.0 in /usr/local/lib/python3.10/dist-packages (from posthog->haystack-ai) (2.2.1)\n",
            "Requirement already satisfied: charset-normalizer<4,>=2 in /usr/local/lib/python3.10/dist-packages (from requests->haystack-ai) (3.3.2)\n",
            "Requirement already satisfied: idna<4,>=2.5 in /usr/local/lib/python3.10/dist-packages (from requests->haystack-ai) (3.10)\n",
            "Requirement already satisfied: urllib3<3,>=1.21.1 in /usr/local/lib/python3.10/dist-packages (from requests->haystack-ai) (2.2.3)\n",
            "Requirement already satisfied: certifi>=2017.4.17 in /usr/local/lib/python3.10/dist-packages (from requests->haystack-ai) (2024.8.30)\n",
            "Requirement already satisfied: exceptiongroup in /usr/local/lib/python3.10/dist-packages (from anyio<5,>=3.5.0->openai>=1.1.0->haystack-ai) (1.2.2)\n",
            "Requirement already satisfied: httpcore==1.* in /usr/local/lib/python3.10/dist-packages (from httpx<1,>=0.23.0->openai>=1.1.0->haystack-ai) (1.0.6)\n",
            "Requirement already satisfied: h11<0.15,>=0.13 in /usr/local/lib/python3.10/dist-packages (from httpcore==1.*->httpx<1,>=0.23.0->openai>=1.1.0->haystack-ai) (0.14.0)\n",
            "Requirement already satisfied: annotated-types>=0.6.0 in /usr/local/lib/python3.10/dist-packages (from pydantic<3,>=1.9.0->openai>=1.1.0->haystack-ai) (0.7.0)\n",
            "Requirement already satisfied: pydantic-core==2.23.4 in /usr/local/lib/python3.10/dist-packages (from pydantic<3,>=1.9.0->openai>=1.1.0->haystack-ai) (2.23.4)\n",
            "Requirement already satisfied: sentence-transformers>=3.0.0 in /usr/local/lib/python3.10/dist-packages (3.2.1)\n",
            "Requirement already satisfied: transformers<5.0.0,>=4.41.0 in /usr/local/lib/python3.10/dist-packages (from sentence-transformers>=3.0.0) (4.44.2)\n",
            "Requirement already satisfied: tqdm in /usr/local/lib/python3.10/dist-packages (from sentence-transformers>=3.0.0) (4.66.5)\n",
            "Requirement already satisfied: torch>=1.11.0 in /usr/local/lib/python3.10/dist-packages (from sentence-transformers>=3.0.0) (2.4.1+cu121)\n",
            "Requirement already satisfied: scikit-learn in /usr/local/lib/python3.10/dist-packages (from sentence-transformers>=3.0.0) (1.5.2)\n",
            "Requirement already satisfied: scipy in /usr/local/lib/python3.10/dist-packages (from sentence-transformers>=3.0.0) (1.13.1)\n",
            "Requirement already satisfied: huggingface-hub>=0.20.0 in /usr/local/lib/python3.10/dist-packages (from sentence-transformers>=3.0.0) (0.26.1)\n",
            "Requirement already satisfied: Pillow in /usr/local/lib/python3.10/dist-packages (from sentence-transformers>=3.0.0) (10.4.0)\n",
            "Requirement already satisfied: filelock in /usr/local/lib/python3.10/dist-packages (from huggingface-hub>=0.20.0->sentence-transformers>=3.0.0) (3.16.1)\n",
            "Requirement already satisfied: fsspec>=2023.5.0 in /usr/local/lib/python3.10/dist-packages (from huggingface-hub>=0.20.0->sentence-transformers>=3.0.0) (2024.6.1)\n",
            "Requirement already satisfied: packaging>=20.9 in /usr/local/lib/python3.10/dist-packages (from huggingface-hub>=0.20.0->sentence-transformers>=3.0.0) (24.1)\n",
            "Requirement already satisfied: pyyaml>=5.1 in /usr/local/lib/python3.10/dist-packages (from huggingface-hub>=0.20.0->sentence-transformers>=3.0.0) (6.0.2)\n",
            "Requirement already satisfied: requests in /usr/local/lib/python3.10/dist-packages (from huggingface-hub>=0.20.0->sentence-transformers>=3.0.0) (2.32.3)\n",
            "Requirement already satisfied: typing-extensions>=3.7.4.3 in /usr/local/lib/python3.10/dist-packages (from huggingface-hub>=0.20.0->sentence-transformers>=3.0.0) (4.12.2)\n",
            "Requirement already satisfied: sympy in /usr/local/lib/python3.10/dist-packages (from torch>=1.11.0->sentence-transformers>=3.0.0) (1.13.3)\n",
            "Requirement already satisfied: networkx in /usr/local/lib/python3.10/dist-packages (from torch>=1.11.0->sentence-transformers>=3.0.0) (3.3)\n",
            "Requirement already satisfied: jinja2 in /usr/local/lib/python3.10/dist-packages (from torch>=1.11.0->sentence-transformers>=3.0.0) (3.1.4)\n",
            "Requirement already satisfied: numpy>=1.17 in /usr/local/lib/python3.10/dist-packages (from transformers<5.0.0,>=4.41.0->sentence-transformers>=3.0.0) (1.26.4)\n",
            "Requirement already satisfied: regex!=2019.12.17 in /usr/local/lib/python3.10/dist-packages (from transformers<5.0.0,>=4.41.0->sentence-transformers>=3.0.0) (2024.9.11)\n",
            "Requirement already satisfied: safetensors>=0.4.1 in /usr/local/lib/python3.10/dist-packages (from transformers<5.0.0,>=4.41.0->sentence-transformers>=3.0.0) (0.4.5)\n",
            "Requirement already satisfied: tokenizers<0.20,>=0.19 in /usr/local/lib/python3.10/dist-packages (from transformers<5.0.0,>=4.41.0->sentence-transformers>=3.0.0) (0.19.1)\n",
            "Requirement already satisfied: joblib>=1.2.0 in /usr/local/lib/python3.10/dist-packages (from scikit-learn->sentence-transformers>=3.0.0) (1.4.2)\n",
            "Requirement already satisfied: threadpoolctl>=3.1.0 in /usr/local/lib/python3.10/dist-packages (from scikit-learn->sentence-transformers>=3.0.0) (3.5.0)\n",
            "Requirement already satisfied: MarkupSafe>=2.0 in /usr/local/lib/python3.10/dist-packages (from jinja2->torch>=1.11.0->sentence-transformers>=3.0.0) (2.1.5)\n",
            "Requirement already satisfied: charset-normalizer<4,>=2 in /usr/local/lib/python3.10/dist-packages (from requests->huggingface-hub>=0.20.0->sentence-transformers>=3.0.0) (3.3.2)\n",
            "Requirement already satisfied: idna<4,>=2.5 in /usr/local/lib/python3.10/dist-packages (from requests->huggingface-hub>=0.20.0->sentence-transformers>=3.0.0) (3.10)\n",
            "Requirement already satisfied: urllib3<3,>=1.21.1 in /usr/local/lib/python3.10/dist-packages (from requests->huggingface-hub>=0.20.0->sentence-transformers>=3.0.0) (2.2.3)\n",
            "Requirement already satisfied: certifi>=2017.4.17 in /usr/local/lib/python3.10/dist-packages (from requests->huggingface-hub>=0.20.0->sentence-transformers>=3.0.0) (2024.8.30)\n",
            "Requirement already satisfied: mpmath<1.4,>=1.1.0 in /usr/local/lib/python3.10/dist-packages (from sympy->torch>=1.11.0->sentence-transformers>=3.0.0) (1.3.0)\n",
            "Requirement already satisfied: google-ai-haystack in /usr/local/lib/python3.10/dist-packages (2.0.1)\n",
            "Requirement already satisfied: google-generativeai>=0.3.1 in /usr/local/lib/python3.10/dist-packages (from google-ai-haystack) (0.7.2)\n",
            "Requirement already satisfied: haystack-ai in /usr/local/lib/python3.10/dist-packages (from google-ai-haystack) (2.6.1)\n",
            "Requirement already satisfied: google-ai-generativelanguage==0.6.6 in /usr/local/lib/python3.10/dist-packages (from google-generativeai>=0.3.1->google-ai-haystack) (0.6.6)\n",
            "Requirement already satisfied: google-api-core in /usr/local/lib/python3.10/dist-packages (from google-generativeai>=0.3.1->google-ai-haystack) (2.19.2)\n",
            "Requirement already satisfied: google-api-python-client in /usr/local/lib/python3.10/dist-packages (from google-generativeai>=0.3.1->google-ai-haystack) (2.137.0)\n",
            "Requirement already satisfied: google-auth>=2.15.0 in /usr/local/lib/python3.10/dist-packages (from google-generativeai>=0.3.1->google-ai-haystack) (2.27.0)\n",
            "Requirement already satisfied: protobuf in /usr/local/lib/python3.10/dist-packages (from google-generativeai>=0.3.1->google-ai-haystack) (3.20.3)\n",
            "Requirement already satisfied: pydantic in /usr/local/lib/python3.10/dist-packages (from google-generativeai>=0.3.1->google-ai-haystack) (2.9.2)\n",
            "Requirement already satisfied: tqdm in /usr/local/lib/python3.10/dist-packages (from google-generativeai>=0.3.1->google-ai-haystack) (4.66.5)\n",
            "Requirement already satisfied: typing-extensions in /usr/local/lib/python3.10/dist-packages (from google-generativeai>=0.3.1->google-ai-haystack) (4.12.2)\n",
            "Requirement already satisfied: proto-plus<2.0.0dev,>=1.22.3 in /usr/local/lib/python3.10/dist-packages (from google-ai-generativelanguage==0.6.6->google-generativeai>=0.3.1->google-ai-haystack) (1.24.0)\n",
            "Requirement already satisfied: haystack-experimental in /usr/local/lib/python3.10/dist-packages (from haystack-ai->google-ai-haystack) (0.2.0)\n",
            "Requirement already satisfied: jinja2 in /usr/local/lib/python3.10/dist-packages (from haystack-ai->google-ai-haystack) (3.1.4)\n",
            "Requirement already satisfied: lazy-imports in /usr/local/lib/python3.10/dist-packages (from haystack-ai->google-ai-haystack) (0.3.1)\n",
            "Requirement already satisfied: more-itertools in /usr/local/lib/python3.10/dist-packages (from haystack-ai->google-ai-haystack) (10.5.0)\n",
            "Requirement already satisfied: networkx in /usr/local/lib/python3.10/dist-packages (from haystack-ai->google-ai-haystack) (3.3)\n",
            "Requirement already satisfied: numpy<2 in /usr/local/lib/python3.10/dist-packages (from haystack-ai->google-ai-haystack) (1.26.4)\n",
            "Requirement already satisfied: openai>=1.1.0 in /usr/local/lib/python3.10/dist-packages (from haystack-ai->google-ai-haystack) (1.52.0)\n",
            "Requirement already satisfied: pandas in /usr/local/lib/python3.10/dist-packages (from haystack-ai->google-ai-haystack) (2.1.4)\n",
            "Requirement already satisfied: posthog in /usr/local/lib/python3.10/dist-packages (from haystack-ai->google-ai-haystack) (3.7.0)\n",
            "Requirement already satisfied: python-dateutil in /usr/local/lib/python3.10/dist-packages (from haystack-ai->google-ai-haystack) (2.8.2)\n",
            "Requirement already satisfied: pyyaml in /usr/local/lib/python3.10/dist-packages (from haystack-ai->google-ai-haystack) (6.0.2)\n",
            "Requirement already satisfied: requests in /usr/local/lib/python3.10/dist-packages (from haystack-ai->google-ai-haystack) (2.32.3)\n",
            "Requirement already satisfied: tenacity!=8.4.0 in /usr/local/lib/python3.10/dist-packages (from haystack-ai->google-ai-haystack) (9.0.0)\n",
            "Requirement already satisfied: googleapis-common-protos<2.0.dev0,>=1.56.2 in /usr/local/lib/python3.10/dist-packages (from google-api-core->google-generativeai>=0.3.1->google-ai-haystack) (1.65.0)\n",
            "Requirement already satisfied: cachetools<6.0,>=2.0.0 in /usr/local/lib/python3.10/dist-packages (from google-auth>=2.15.0->google-generativeai>=0.3.1->google-ai-haystack) (5.5.0)\n",
            "Requirement already satisfied: pyasn1-modules>=0.2.1 in /usr/local/lib/python3.10/dist-packages (from google-auth>=2.15.0->google-generativeai>=0.3.1->google-ai-haystack) (0.4.1)\n",
            "Requirement already satisfied: rsa<5,>=3.1.4 in /usr/local/lib/python3.10/dist-packages (from google-auth>=2.15.0->google-generativeai>=0.3.1->google-ai-haystack) (4.9)\n",
            "Requirement already satisfied: anyio<5,>=3.5.0 in /usr/local/lib/python3.10/dist-packages (from openai>=1.1.0->haystack-ai->google-ai-haystack) (3.7.1)\n",
            "Requirement already satisfied: distro<2,>=1.7.0 in /usr/lib/python3/dist-packages (from openai>=1.1.0->haystack-ai->google-ai-haystack) (1.7.0)\n",
            "Requirement already satisfied: httpx<1,>=0.23.0 in /usr/local/lib/python3.10/dist-packages (from openai>=1.1.0->haystack-ai->google-ai-haystack) (0.27.2)\n",
            "Requirement already satisfied: jiter<1,>=0.4.0 in /usr/local/lib/python3.10/dist-packages (from openai>=1.1.0->haystack-ai->google-ai-haystack) (0.6.1)\n",
            "Requirement already satisfied: sniffio in /usr/local/lib/python3.10/dist-packages (from openai>=1.1.0->haystack-ai->google-ai-haystack) (1.3.1)\n",
            "Requirement already satisfied: annotated-types>=0.6.0 in /usr/local/lib/python3.10/dist-packages (from pydantic->google-generativeai>=0.3.1->google-ai-haystack) (0.7.0)\n",
            "Requirement already satisfied: pydantic-core==2.23.4 in /usr/local/lib/python3.10/dist-packages (from pydantic->google-generativeai>=0.3.1->google-ai-haystack) (2.23.4)\n",
            "Requirement already satisfied: charset-normalizer<4,>=2 in /usr/local/lib/python3.10/dist-packages (from requests->haystack-ai->google-ai-haystack) (3.3.2)\n",
            "Requirement already satisfied: idna<4,>=2.5 in /usr/local/lib/python3.10/dist-packages (from requests->haystack-ai->google-ai-haystack) (3.10)\n",
            "Requirement already satisfied: urllib3<3,>=1.21.1 in /usr/local/lib/python3.10/dist-packages (from requests->haystack-ai->google-ai-haystack) (2.2.3)\n",
            "Requirement already satisfied: certifi>=2017.4.17 in /usr/local/lib/python3.10/dist-packages (from requests->haystack-ai->google-ai-haystack) (2024.8.30)\n",
            "Requirement already satisfied: httplib2<1.dev0,>=0.19.0 in /usr/local/lib/python3.10/dist-packages (from google-api-python-client->google-generativeai>=0.3.1->google-ai-haystack) (0.22.0)\n",
            "Requirement already satisfied: google-auth-httplib2<1.0.0,>=0.2.0 in /usr/local/lib/python3.10/dist-packages (from google-api-python-client->google-generativeai>=0.3.1->google-ai-haystack) (0.2.0)\n",
            "Requirement already satisfied: uritemplate<5,>=3.0.1 in /usr/local/lib/python3.10/dist-packages (from google-api-python-client->google-generativeai>=0.3.1->google-ai-haystack) (4.1.1)\n",
            "Requirement already satisfied: MarkupSafe>=2.0 in /usr/local/lib/python3.10/dist-packages (from jinja2->haystack-ai->google-ai-haystack) (2.1.5)\n",
            "Requirement already satisfied: pytz>=2020.1 in /usr/local/lib/python3.10/dist-packages (from pandas->haystack-ai->google-ai-haystack) (2024.2)\n",
            "Requirement already satisfied: tzdata>=2022.1 in /usr/local/lib/python3.10/dist-packages (from pandas->haystack-ai->google-ai-haystack) (2024.1)\n",
            "Requirement already satisfied: six>=1.5 in /usr/local/lib/python3.10/dist-packages (from python-dateutil->haystack-ai->google-ai-haystack) (1.16.0)\n",
            "Requirement already satisfied: monotonic>=1.5 in /usr/local/lib/python3.10/dist-packages (from posthog->haystack-ai->google-ai-haystack) (1.6)\n",
            "Requirement already satisfied: backoff>=1.10.0 in /usr/local/lib/python3.10/dist-packages (from posthog->haystack-ai->google-ai-haystack) (2.2.1)\n",
            "Requirement already satisfied: exceptiongroup in /usr/local/lib/python3.10/dist-packages (from anyio<5,>=3.5.0->openai>=1.1.0->haystack-ai->google-ai-haystack) (1.2.2)\n",
            "Requirement already satisfied: grpcio<2.0dev,>=1.33.2 in /usr/local/lib/python3.10/dist-packages (from google-api-core[grpc]!=2.0.*,!=2.1.*,!=2.10.*,!=2.2.*,!=2.3.*,!=2.4.*,!=2.5.*,!=2.6.*,!=2.7.*,!=2.8.*,!=2.9.*,<3.0.0dev,>=1.34.1->google-ai-generativelanguage==0.6.6->google-generativeai>=0.3.1->google-ai-haystack) (1.64.1)\n",
            "Requirement already satisfied: grpcio-status<2.0.dev0,>=1.33.2 in /usr/local/lib/python3.10/dist-packages (from google-api-core[grpc]!=2.0.*,!=2.1.*,!=2.10.*,!=2.2.*,!=2.3.*,!=2.4.*,!=2.5.*,!=2.6.*,!=2.7.*,!=2.8.*,!=2.9.*,<3.0.0dev,>=1.34.1->google-ai-generativelanguage==0.6.6->google-generativeai>=0.3.1->google-ai-haystack) (1.48.2)\n",
            "Requirement already satisfied: pyparsing!=3.0.0,!=3.0.1,!=3.0.2,!=3.0.3,<4,>=2.4.2 in /usr/local/lib/python3.10/dist-packages (from httplib2<1.dev0,>=0.19.0->google-api-python-client->google-generativeai>=0.3.1->google-ai-haystack) (3.1.4)\n",
            "Requirement already satisfied: httpcore==1.* in /usr/local/lib/python3.10/dist-packages (from httpx<1,>=0.23.0->openai>=1.1.0->haystack-ai->google-ai-haystack) (1.0.6)\n",
            "Requirement already satisfied: h11<0.15,>=0.13 in /usr/local/lib/python3.10/dist-packages (from httpcore==1.*->httpx<1,>=0.23.0->openai>=1.1.0->haystack-ai->google-ai-haystack) (0.14.0)\n",
            "Requirement already satisfied: pyasn1<0.7.0,>=0.4.6 in /usr/local/lib/python3.10/dist-packages (from pyasn1-modules>=0.2.1->google-auth>=2.15.0->google-generativeai>=0.3.1->google-ai-haystack) (0.6.1)\n",
            "Requirement already satisfied: markdown-it-py in /usr/local/lib/python3.10/dist-packages (3.0.0)\n",
            "Requirement already satisfied: mdit_plain in /usr/local/lib/python3.10/dist-packages (1.0.1)\n",
            "Requirement already satisfied: pypdf in /usr/local/lib/python3.10/dist-packages (5.0.1)\n",
            "Requirement already satisfied: mdurl~=0.1 in /usr/local/lib/python3.10/dist-packages (from markdown-it-py) (0.1.2)\n",
            "Requirement already satisfied: typing_extensions>=4.0 in /usr/local/lib/python3.10/dist-packages (from pypdf) (4.12.2)\n",
            "Requirement already satisfied: gdown in /usr/local/lib/python3.10/dist-packages (5.2.0)\n",
            "Requirement already satisfied: beautifulsoup4 in /usr/local/lib/python3.10/dist-packages (from gdown) (4.12.3)\n",
            "Requirement already satisfied: filelock in /usr/local/lib/python3.10/dist-packages (from gdown) (3.16.1)\n",
            "Requirement already satisfied: requests[socks] in /usr/local/lib/python3.10/dist-packages (from gdown) (2.32.3)\n",
            "Requirement already satisfied: tqdm in /usr/local/lib/python3.10/dist-packages (from gdown) (4.66.5)\n",
            "Requirement already satisfied: soupsieve>1.2 in /usr/local/lib/python3.10/dist-packages (from beautifulsoup4->gdown) (2.6)\n",
            "Requirement already satisfied: charset-normalizer<4,>=2 in /usr/local/lib/python3.10/dist-packages (from requests[socks]->gdown) (3.3.2)\n",
            "Requirement already satisfied: idna<4,>=2.5 in /usr/local/lib/python3.10/dist-packages (from requests[socks]->gdown) (3.10)\n",
            "Requirement already satisfied: urllib3<3,>=1.21.1 in /usr/local/lib/python3.10/dist-packages (from requests[socks]->gdown) (2.2.3)\n",
            "Requirement already satisfied: certifi>=2017.4.17 in /usr/local/lib/python3.10/dist-packages (from requests[socks]->gdown) (2024.8.30)\n",
            "Requirement already satisfied: PySocks!=1.5.7,>=1.5.6 in /usr/local/lib/python3.10/dist-packages (from requests[socks]->gdown) (1.7.1)\n",
            "Requirement already satisfied: trafilatura in /usr/local/lib/python3.10/dist-packages (1.12.2)\n",
            "Requirement already satisfied: certifi in /usr/local/lib/python3.10/dist-packages (from trafilatura) (2024.8.30)\n",
            "Requirement already satisfied: courlan>=1.2.0 in /usr/local/lib/python3.10/dist-packages (from trafilatura) (1.3.1)\n",
            "Requirement already satisfied: htmldate>=1.8.1 in /usr/local/lib/python3.10/dist-packages (from trafilatura) (1.9.1)\n",
            "Requirement already satisfied: justext>=3.0.1 in /usr/local/lib/python3.10/dist-packages (from trafilatura) (3.0.1)\n",
            "Requirement already satisfied: lxml>=5.2.2 in /usr/local/lib/python3.10/dist-packages (from trafilatura) (5.3.0)\n",
            "Requirement already satisfied: charset-normalizer>=3.2.0 in /usr/local/lib/python3.10/dist-packages (from trafilatura) (3.3.2)\n",
            "Requirement already satisfied: urllib3<3,>=1.26 in /usr/local/lib/python3.10/dist-packages (from trafilatura) (2.2.3)\n",
            "Requirement already satisfied: babel>=2.16.0 in /usr/local/lib/python3.10/dist-packages (from courlan>=1.2.0->trafilatura) (2.16.0)\n",
            "Requirement already satisfied: tld>=0.13 in /usr/local/lib/python3.10/dist-packages (from courlan>=1.2.0->trafilatura) (0.13)\n",
            "Requirement already satisfied: dateparser>=1.1.2 in /usr/local/lib/python3.10/dist-packages (from htmldate>=1.8.1->trafilatura) (1.2.0)\n",
            "Requirement already satisfied: python-dateutil>=2.8.2 in /usr/local/lib/python3.10/dist-packages (from htmldate>=1.8.1->trafilatura) (2.8.2)\n",
            "Requirement already satisfied: pytz in /usr/local/lib/python3.10/dist-packages (from dateparser>=1.1.2->htmldate>=1.8.1->trafilatura) (2024.2)\n",
            "Requirement already satisfied: regex!=2019.02.19,!=2021.8.27 in /usr/local/lib/python3.10/dist-packages (from dateparser>=1.1.2->htmldate>=1.8.1->trafilatura) (2024.9.11)\n",
            "Requirement already satisfied: tzlocal in /usr/local/lib/python3.10/dist-packages (from dateparser>=1.1.2->htmldate>=1.8.1->trafilatura) (5.2)\n",
            "Requirement already satisfied: lxml-html-clean in /usr/local/lib/python3.10/dist-packages (from lxml[html_clean]>=4.4.2->justext>=3.0.1->trafilatura) (0.3.1)\n",
            "Requirement already satisfied: six>=1.5 in /usr/local/lib/python3.10/dist-packages (from python-dateutil>=2.8.2->htmldate>=1.8.1->trafilatura) (1.16.0)\n",
            "Requirement already satisfied: chroma-haystack in /usr/local/lib/python3.10/dist-packages (0.22.1)\n",
            "Requirement already satisfied: chromadb>=0.5.0 in /usr/local/lib/python3.10/dist-packages (from chroma-haystack) (0.5.15)\n",
            "Requirement already satisfied: haystack-ai in /usr/local/lib/python3.10/dist-packages (from chroma-haystack) (2.6.1)\n",
            "Requirement already satisfied: typing-extensions>=4.8.0 in /usr/local/lib/python3.10/dist-packages (from chroma-haystack) (4.12.2)\n",
            "Requirement already satisfied: build>=1.0.3 in /usr/local/lib/python3.10/dist-packages (from chromadb>=0.5.0->chroma-haystack) (1.2.2)\n",
            "Requirement already satisfied: pydantic>=1.9 in /usr/local/lib/python3.10/dist-packages (from chromadb>=0.5.0->chroma-haystack) (2.9.2)\n",
            "Requirement already satisfied: chroma-hnswlib==0.7.6 in /usr/local/lib/python3.10/dist-packages (from chromadb>=0.5.0->chroma-haystack) (0.7.6)\n",
            "Requirement already satisfied: fastapi>=0.95.2 in /usr/local/lib/python3.10/dist-packages (from chromadb>=0.5.0->chroma-haystack) (0.115.2)\n",
            "Requirement already satisfied: uvicorn>=0.18.3 in /usr/local/lib/python3.10/dist-packages (from uvicorn[standard]>=0.18.3->chromadb>=0.5.0->chroma-haystack) (0.32.0)\n",
            "Requirement already satisfied: numpy>=1.22.5 in /usr/local/lib/python3.10/dist-packages (from chromadb>=0.5.0->chroma-haystack) (1.26.4)\n",
            "Requirement already satisfied: posthog>=2.4.0 in /usr/local/lib/python3.10/dist-packages (from chromadb>=0.5.0->chroma-haystack) (3.7.0)\n",
            "Requirement already satisfied: onnxruntime>=1.14.1 in /usr/local/lib/python3.10/dist-packages (from chromadb>=0.5.0->chroma-haystack) (1.19.2)\n",
            "Requirement already satisfied: opentelemetry-api>=1.2.0 in /usr/local/lib/python3.10/dist-packages (from chromadb>=0.5.0->chroma-haystack) (1.27.0)\n",
            "Requirement already satisfied: opentelemetry-exporter-otlp-proto-grpc>=1.2.0 in /usr/local/lib/python3.10/dist-packages (from chromadb>=0.5.0->chroma-haystack) (1.27.0)\n",
            "Requirement already satisfied: opentelemetry-instrumentation-fastapi>=0.41b0 in /usr/local/lib/python3.10/dist-packages (from chromadb>=0.5.0->chroma-haystack) (0.48b0)\n",
            "Requirement already satisfied: opentelemetry-sdk>=1.2.0 in /usr/local/lib/python3.10/dist-packages (from chromadb>=0.5.0->chroma-haystack) (1.27.0)\n",
            "Requirement already satisfied: tokenizers>=0.13.2 in /usr/local/lib/python3.10/dist-packages (from chromadb>=0.5.0->chroma-haystack) (0.19.1)\n",
            "Requirement already satisfied: pypika>=0.48.9 in /usr/local/lib/python3.10/dist-packages (from chromadb>=0.5.0->chroma-haystack) (0.48.9)\n",
            "Requirement already satisfied: tqdm>=4.65.0 in /usr/local/lib/python3.10/dist-packages (from chromadb>=0.5.0->chroma-haystack) (4.66.5)\n",
            "Requirement already satisfied: overrides>=7.3.1 in /usr/local/lib/python3.10/dist-packages (from chromadb>=0.5.0->chroma-haystack) (7.7.0)\n",
            "Requirement already satisfied: importlib-resources in /usr/local/lib/python3.10/dist-packages (from chromadb>=0.5.0->chroma-haystack) (6.4.5)\n",
            "Requirement already satisfied: grpcio>=1.58.0 in /usr/local/lib/python3.10/dist-packages (from chromadb>=0.5.0->chroma-haystack) (1.64.1)\n",
            "Requirement already satisfied: bcrypt>=4.0.1 in /usr/local/lib/python3.10/dist-packages (from chromadb>=0.5.0->chroma-haystack) (4.2.0)\n",
            "Requirement already satisfied: typer>=0.9.0 in /usr/local/lib/python3.10/dist-packages (from chromadb>=0.5.0->chroma-haystack) (0.12.5)\n",
            "Requirement already satisfied: kubernetes>=28.1.0 in /usr/local/lib/python3.10/dist-packages (from chromadb>=0.5.0->chroma-haystack) (31.0.0)\n",
            "Requirement already satisfied: tenacity>=8.2.3 in /usr/local/lib/python3.10/dist-packages (from chromadb>=0.5.0->chroma-haystack) (9.0.0)\n",
            "Requirement already satisfied: PyYAML>=6.0.0 in /usr/local/lib/python3.10/dist-packages (from chromadb>=0.5.0->chroma-haystack) (6.0.2)\n",
            "Requirement already satisfied: mmh3>=4.0.1 in /usr/local/lib/python3.10/dist-packages (from chromadb>=0.5.0->chroma-haystack) (5.0.1)\n",
            "Requirement already satisfied: orjson>=3.9.12 in /usr/local/lib/python3.10/dist-packages (from chromadb>=0.5.0->chroma-haystack) (3.10.9)\n",
            "Requirement already satisfied: httpx>=0.27.0 in /usr/local/lib/python3.10/dist-packages (from chromadb>=0.5.0->chroma-haystack) (0.27.2)\n",
            "Requirement already satisfied: rich>=10.11.0 in /usr/local/lib/python3.10/dist-packages (from chromadb>=0.5.0->chroma-haystack) (13.8.1)\n",
            "Requirement already satisfied: haystack-experimental in /usr/local/lib/python3.10/dist-packages (from haystack-ai->chroma-haystack) (0.2.0)\n",
            "Requirement already satisfied: jinja2 in /usr/local/lib/python3.10/dist-packages (from haystack-ai->chroma-haystack) (3.1.4)\n",
            "Requirement already satisfied: lazy-imports in /usr/local/lib/python3.10/dist-packages (from haystack-ai->chroma-haystack) (0.3.1)\n",
            "Requirement already satisfied: more-itertools in /usr/local/lib/python3.10/dist-packages (from haystack-ai->chroma-haystack) (10.5.0)\n",
            "Requirement already satisfied: networkx in /usr/local/lib/python3.10/dist-packages (from haystack-ai->chroma-haystack) (3.3)\n",
            "Requirement already satisfied: openai>=1.1.0 in /usr/local/lib/python3.10/dist-packages (from haystack-ai->chroma-haystack) (1.52.0)\n",
            "Requirement already satisfied: pandas in /usr/local/lib/python3.10/dist-packages (from haystack-ai->chroma-haystack) (2.1.4)\n",
            "Requirement already satisfied: python-dateutil in /usr/local/lib/python3.10/dist-packages (from haystack-ai->chroma-haystack) (2.8.2)\n",
            "Requirement already satisfied: requests in /usr/local/lib/python3.10/dist-packages (from haystack-ai->chroma-haystack) (2.32.3)\n",
            "Requirement already satisfied: packaging>=19.1 in /usr/local/lib/python3.10/dist-packages (from build>=1.0.3->chromadb>=0.5.0->chroma-haystack) (24.1)\n",
            "Requirement already satisfied: pyproject_hooks in /usr/local/lib/python3.10/dist-packages (from build>=1.0.3->chromadb>=0.5.0->chroma-haystack) (1.1.0)\n",
            "Requirement already satisfied: tomli>=1.1.0 in /usr/local/lib/python3.10/dist-packages (from build>=1.0.3->chromadb>=0.5.0->chroma-haystack) (2.0.1)\n",
            "Requirement already satisfied: starlette<0.41.0,>=0.37.2 in /usr/local/lib/python3.10/dist-packages (from fastapi>=0.95.2->chromadb>=0.5.0->chroma-haystack) (0.40.0)\n",
            "Requirement already satisfied: anyio in /usr/local/lib/python3.10/dist-packages (from httpx>=0.27.0->chromadb>=0.5.0->chroma-haystack) (3.7.1)\n",
            "Requirement already satisfied: certifi in /usr/local/lib/python3.10/dist-packages (from httpx>=0.27.0->chromadb>=0.5.0->chroma-haystack) (2024.8.30)\n",
            "Requirement already satisfied: httpcore==1.* in /usr/local/lib/python3.10/dist-packages (from httpx>=0.27.0->chromadb>=0.5.0->chroma-haystack) (1.0.6)\n",
            "Requirement already satisfied: idna in /usr/local/lib/python3.10/dist-packages (from httpx>=0.27.0->chromadb>=0.5.0->chroma-haystack) (3.10)\n",
            "Requirement already satisfied: sniffio in /usr/local/lib/python3.10/dist-packages (from httpx>=0.27.0->chromadb>=0.5.0->chroma-haystack) (1.3.1)\n",
            "Requirement already satisfied: h11<0.15,>=0.13 in /usr/local/lib/python3.10/dist-packages (from httpcore==1.*->httpx>=0.27.0->chromadb>=0.5.0->chroma-haystack) (0.14.0)\n",
            "Requirement already satisfied: six>=1.9.0 in /usr/local/lib/python3.10/dist-packages (from kubernetes>=28.1.0->chromadb>=0.5.0->chroma-haystack) (1.16.0)\n",
            "Requirement already satisfied: google-auth>=1.0.1 in /usr/local/lib/python3.10/dist-packages (from kubernetes>=28.1.0->chromadb>=0.5.0->chroma-haystack) (2.27.0)\n",
            "Requirement already satisfied: websocket-client!=0.40.0,!=0.41.*,!=0.42.*,>=0.32.0 in /usr/local/lib/python3.10/dist-packages (from kubernetes>=28.1.0->chromadb>=0.5.0->chroma-haystack) (1.8.0)\n",
            "Requirement already satisfied: requests-oauthlib in /usr/local/lib/python3.10/dist-packages (from kubernetes>=28.1.0->chromadb>=0.5.0->chroma-haystack) (1.3.1)\n",
            "Requirement already satisfied: oauthlib>=3.2.2 in /usr/local/lib/python3.10/dist-packages (from kubernetes>=28.1.0->chromadb>=0.5.0->chroma-haystack) (3.2.2)\n",
            "Requirement already satisfied: urllib3>=1.24.2 in /usr/local/lib/python3.10/dist-packages (from kubernetes>=28.1.0->chromadb>=0.5.0->chroma-haystack) (2.2.3)\n",
            "Requirement already satisfied: durationpy>=0.7 in /usr/local/lib/python3.10/dist-packages (from kubernetes>=28.1.0->chromadb>=0.5.0->chroma-haystack) (0.9)\n",
            "Requirement already satisfied: coloredlogs in /usr/local/lib/python3.10/dist-packages (from onnxruntime>=1.14.1->chromadb>=0.5.0->chroma-haystack) (15.0.1)\n",
            "Requirement already satisfied: flatbuffers in /usr/local/lib/python3.10/dist-packages (from onnxruntime>=1.14.1->chromadb>=0.5.0->chroma-haystack) (24.3.25)\n",
            "Requirement already satisfied: protobuf in /usr/local/lib/python3.10/dist-packages (from onnxruntime>=1.14.1->chromadb>=0.5.0->chroma-haystack) (3.20.3)\n",
            "Requirement already satisfied: sympy in /usr/local/lib/python3.10/dist-packages (from onnxruntime>=1.14.1->chromadb>=0.5.0->chroma-haystack) (1.13.3)\n",
            "Requirement already satisfied: distro<2,>=1.7.0 in /usr/lib/python3/dist-packages (from openai>=1.1.0->haystack-ai->chroma-haystack) (1.7.0)\n",
            "Requirement already satisfied: jiter<1,>=0.4.0 in /usr/local/lib/python3.10/dist-packages (from openai>=1.1.0->haystack-ai->chroma-haystack) (0.6.1)\n",
            "Requirement already satisfied: deprecated>=1.2.6 in /usr/local/lib/python3.10/dist-packages (from opentelemetry-api>=1.2.0->chromadb>=0.5.0->chroma-haystack) (1.2.14)\n",
            "Requirement already satisfied: importlib-metadata<=8.4.0,>=6.0 in /usr/local/lib/python3.10/dist-packages (from opentelemetry-api>=1.2.0->chromadb>=0.5.0->chroma-haystack) (8.4.0)\n",
            "Requirement already satisfied: googleapis-common-protos~=1.52 in /usr/local/lib/python3.10/dist-packages (from opentelemetry-exporter-otlp-proto-grpc>=1.2.0->chromadb>=0.5.0->chroma-haystack) (1.65.0)\n",
            "Requirement already satisfied: opentelemetry-exporter-otlp-proto-common==1.27.0 in /usr/local/lib/python3.10/dist-packages (from opentelemetry-exporter-otlp-proto-grpc>=1.2.0->chromadb>=0.5.0->chroma-haystack) (1.27.0)\n",
            "Requirement already satisfied: opentelemetry-proto==1.27.0 in /usr/local/lib/python3.10/dist-packages (from opentelemetry-exporter-otlp-proto-grpc>=1.2.0->chromadb>=0.5.0->chroma-haystack) (1.27.0)\n",
            "Requirement already satisfied: opentelemetry-instrumentation-asgi==0.48b0 in /usr/local/lib/python3.10/dist-packages (from opentelemetry-instrumentation-fastapi>=0.41b0->chromadb>=0.5.0->chroma-haystack) (0.48b0)\n",
            "Requirement already satisfied: opentelemetry-instrumentation==0.48b0 in /usr/local/lib/python3.10/dist-packages (from opentelemetry-instrumentation-fastapi>=0.41b0->chromadb>=0.5.0->chroma-haystack) (0.48b0)\n",
            "Requirement already satisfied: opentelemetry-semantic-conventions==0.48b0 in /usr/local/lib/python3.10/dist-packages (from opentelemetry-instrumentation-fastapi>=0.41b0->chromadb>=0.5.0->chroma-haystack) (0.48b0)\n",
            "Requirement already satisfied: opentelemetry-util-http==0.48b0 in /usr/local/lib/python3.10/dist-packages (from opentelemetry-instrumentation-fastapi>=0.41b0->chromadb>=0.5.0->chroma-haystack) (0.48b0)\n",
            "Requirement already satisfied: setuptools>=16.0 in /usr/local/lib/python3.10/dist-packages (from opentelemetry-instrumentation==0.48b0->opentelemetry-instrumentation-fastapi>=0.41b0->chromadb>=0.5.0->chroma-haystack) (71.0.4)\n",
            "Requirement already satisfied: wrapt<2.0.0,>=1.0.0 in /usr/local/lib/python3.10/dist-packages (from opentelemetry-instrumentation==0.48b0->opentelemetry-instrumentation-fastapi>=0.41b0->chromadb>=0.5.0->chroma-haystack) (1.16.0)\n",
            "Requirement already satisfied: asgiref~=3.0 in /usr/local/lib/python3.10/dist-packages (from opentelemetry-instrumentation-asgi==0.48b0->opentelemetry-instrumentation-fastapi>=0.41b0->chromadb>=0.5.0->chroma-haystack) (3.8.1)\n",
            "Requirement already satisfied: monotonic>=1.5 in /usr/local/lib/python3.10/dist-packages (from posthog>=2.4.0->chromadb>=0.5.0->chroma-haystack) (1.6)\n",
            "Requirement already satisfied: backoff>=1.10.0 in /usr/local/lib/python3.10/dist-packages (from posthog>=2.4.0->chromadb>=0.5.0->chroma-haystack) (2.2.1)\n",
            "Requirement already satisfied: annotated-types>=0.6.0 in /usr/local/lib/python3.10/dist-packages (from pydantic>=1.9->chromadb>=0.5.0->chroma-haystack) (0.7.0)\n",
            "Requirement already satisfied: pydantic-core==2.23.4 in /usr/local/lib/python3.10/dist-packages (from pydantic>=1.9->chromadb>=0.5.0->chroma-haystack) (2.23.4)\n",
            "Requirement already satisfied: charset-normalizer<4,>=2 in /usr/local/lib/python3.10/dist-packages (from requests->haystack-ai->chroma-haystack) (3.3.2)\n",
            "Requirement already satisfied: markdown-it-py>=2.2.0 in /usr/local/lib/python3.10/dist-packages (from rich>=10.11.0->chromadb>=0.5.0->chroma-haystack) (3.0.0)\n",
            "Requirement already satisfied: pygments<3.0.0,>=2.13.0 in /usr/local/lib/python3.10/dist-packages (from rich>=10.11.0->chromadb>=0.5.0->chroma-haystack) (2.18.0)\n",
            "Requirement already satisfied: huggingface-hub<1.0,>=0.16.4 in /usr/local/lib/python3.10/dist-packages (from tokenizers>=0.13.2->chromadb>=0.5.0->chroma-haystack) (0.26.1)\n",
            "Requirement already satisfied: click>=8.0.0 in /usr/local/lib/python3.10/dist-packages (from typer>=0.9.0->chromadb>=0.5.0->chroma-haystack) (8.1.7)\n",
            "Requirement already satisfied: shellingham>=1.3.0 in /usr/local/lib/python3.10/dist-packages (from typer>=0.9.0->chromadb>=0.5.0->chroma-haystack) (1.5.4)\n",
            "Requirement already satisfied: httptools>=0.5.0 in /usr/local/lib/python3.10/dist-packages (from uvicorn[standard]>=0.18.3->chromadb>=0.5.0->chroma-haystack) (0.6.4)\n",
            "Requirement already satisfied: python-dotenv>=0.13 in /usr/local/lib/python3.10/dist-packages (from uvicorn[standard]>=0.18.3->chromadb>=0.5.0->chroma-haystack) (1.0.1)\n",
            "Requirement already satisfied: uvloop!=0.15.0,!=0.15.1,>=0.14.0 in /usr/local/lib/python3.10/dist-packages (from uvicorn[standard]>=0.18.3->chromadb>=0.5.0->chroma-haystack) (0.21.0)\n",
            "Requirement already satisfied: watchfiles>=0.13 in /usr/local/lib/python3.10/dist-packages (from uvicorn[standard]>=0.18.3->chromadb>=0.5.0->chroma-haystack) (0.24.0)\n",
            "Requirement already satisfied: websockets>=10.4 in /usr/local/lib/python3.10/dist-packages (from uvicorn[standard]>=0.18.3->chromadb>=0.5.0->chroma-haystack) (12.0)\n",
            "Requirement already satisfied: MarkupSafe>=2.0 in /usr/local/lib/python3.10/dist-packages (from jinja2->haystack-ai->chroma-haystack) (2.1.5)\n",
            "Requirement already satisfied: pytz>=2020.1 in /usr/local/lib/python3.10/dist-packages (from pandas->haystack-ai->chroma-haystack) (2024.2)\n",
            "Requirement already satisfied: tzdata>=2022.1 in /usr/local/lib/python3.10/dist-packages (from pandas->haystack-ai->chroma-haystack) (2024.1)\n",
            "Requirement already satisfied: exceptiongroup in /usr/local/lib/python3.10/dist-packages (from anyio->httpx>=0.27.0->chromadb>=0.5.0->chroma-haystack) (1.2.2)\n",
            "Requirement already satisfied: cachetools<6.0,>=2.0.0 in /usr/local/lib/python3.10/dist-packages (from google-auth>=1.0.1->kubernetes>=28.1.0->chromadb>=0.5.0->chroma-haystack) (5.5.0)\n",
            "Requirement already satisfied: pyasn1-modules>=0.2.1 in /usr/local/lib/python3.10/dist-packages (from google-auth>=1.0.1->kubernetes>=28.1.0->chromadb>=0.5.0->chroma-haystack) (0.4.1)\n",
            "Requirement already satisfied: rsa<5,>=3.1.4 in /usr/local/lib/python3.10/dist-packages (from google-auth>=1.0.1->kubernetes>=28.1.0->chromadb>=0.5.0->chroma-haystack) (4.9)\n",
            "Requirement already satisfied: filelock in /usr/local/lib/python3.10/dist-packages (from huggingface-hub<1.0,>=0.16.4->tokenizers>=0.13.2->chromadb>=0.5.0->chroma-haystack) (3.16.1)\n",
            "Requirement already satisfied: fsspec>=2023.5.0 in /usr/local/lib/python3.10/dist-packages (from huggingface-hub<1.0,>=0.16.4->tokenizers>=0.13.2->chromadb>=0.5.0->chroma-haystack) (2024.6.1)\n",
            "Requirement already satisfied: zipp>=0.5 in /usr/local/lib/python3.10/dist-packages (from importlib-metadata<=8.4.0,>=6.0->opentelemetry-api>=1.2.0->chromadb>=0.5.0->chroma-haystack) (3.20.2)\n",
            "Requirement already satisfied: mdurl~=0.1 in /usr/local/lib/python3.10/dist-packages (from markdown-it-py>=2.2.0->rich>=10.11.0->chromadb>=0.5.0->chroma-haystack) (0.1.2)\n",
            "Requirement already satisfied: humanfriendly>=9.1 in /usr/local/lib/python3.10/dist-packages (from coloredlogs->onnxruntime>=1.14.1->chromadb>=0.5.0->chroma-haystack) (10.0)\n",
            "Requirement already satisfied: mpmath<1.4,>=1.1.0 in /usr/local/lib/python3.10/dist-packages (from sympy->onnxruntime>=1.14.1->chromadb>=0.5.0->chroma-haystack) (1.3.0)\n",
            "Requirement already satisfied: pyasn1<0.7.0,>=0.4.6 in /usr/local/lib/python3.10/dist-packages (from pyasn1-modules>=0.2.1->google-auth>=1.0.1->kubernetes>=28.1.0->chromadb>=0.5.0->chroma-haystack) (0.6.1)\n",
            "Requirement already satisfied: gradio in /usr/local/lib/python3.10/dist-packages (5.1.0)\n",
            "Requirement already satisfied: aiofiles<24.0,>=22.0 in /usr/local/lib/python3.10/dist-packages (from gradio) (23.2.1)\n",
            "Requirement already satisfied: anyio<5.0,>=3.0 in /usr/local/lib/python3.10/dist-packages (from gradio) (3.7.1)\n",
            "Requirement already satisfied: fastapi<1.0 in /usr/local/lib/python3.10/dist-packages (from gradio) (0.115.2)\n",
            "Requirement already satisfied: ffmpy in /usr/local/lib/python3.10/dist-packages (from gradio) (0.4.0)\n",
            "Requirement already satisfied: gradio-client==1.4.0 in /usr/local/lib/python3.10/dist-packages (from gradio) (1.4.0)\n",
            "Requirement already satisfied: httpx>=0.24.1 in /usr/local/lib/python3.10/dist-packages (from gradio) (0.27.2)\n",
            "Requirement already satisfied: huggingface-hub>=0.25.1 in /usr/local/lib/python3.10/dist-packages (from gradio) (0.26.1)\n",
            "Requirement already satisfied: jinja2<4.0 in /usr/local/lib/python3.10/dist-packages (from gradio) (3.1.4)\n",
            "Requirement already satisfied: markupsafe~=2.0 in /usr/local/lib/python3.10/dist-packages (from gradio) (2.1.5)\n",
            "Requirement already satisfied: numpy<3.0,>=1.0 in /usr/local/lib/python3.10/dist-packages (from gradio) (1.26.4)\n",
            "Requirement already satisfied: orjson~=3.0 in /usr/local/lib/python3.10/dist-packages (from gradio) (3.10.9)\n",
            "Requirement already satisfied: packaging in /usr/local/lib/python3.10/dist-packages (from gradio) (24.1)\n",
            "Requirement already satisfied: pandas<3.0,>=1.0 in /usr/local/lib/python3.10/dist-packages (from gradio) (2.1.4)\n",
            "Requirement already satisfied: pillow<11.0,>=8.0 in /usr/local/lib/python3.10/dist-packages (from gradio) (10.4.0)\n",
            "Requirement already satisfied: pydantic>=2.0 in /usr/local/lib/python3.10/dist-packages (from gradio) (2.9.2)\n",
            "Requirement already satisfied: pydub in /usr/local/lib/python3.10/dist-packages (from gradio) (0.25.1)\n",
            "Requirement already satisfied: python-multipart>=0.0.9 in /usr/local/lib/python3.10/dist-packages (from gradio) (0.0.12)\n",
            "Requirement already satisfied: pyyaml<7.0,>=5.0 in /usr/local/lib/python3.10/dist-packages (from gradio) (6.0.2)\n",
            "Requirement already satisfied: ruff>=0.2.2 in /usr/local/lib/python3.10/dist-packages (from gradio) (0.7.0)\n",
            "Requirement already satisfied: semantic-version~=2.0 in /usr/local/lib/python3.10/dist-packages (from gradio) (2.10.0)\n",
            "Requirement already satisfied: tomlkit==0.12.0 in /usr/local/lib/python3.10/dist-packages (from gradio) (0.12.0)\n",
            "Requirement already satisfied: typer<1.0,>=0.12 in /usr/local/lib/python3.10/dist-packages (from gradio) (0.12.5)\n",
            "Requirement already satisfied: typing-extensions~=4.0 in /usr/local/lib/python3.10/dist-packages (from gradio) (4.12.2)\n",
            "Requirement already satisfied: uvicorn>=0.14.0 in /usr/local/lib/python3.10/dist-packages (from gradio) (0.32.0)\n",
            "Requirement already satisfied: fsspec in /usr/local/lib/python3.10/dist-packages (from gradio-client==1.4.0->gradio) (2024.6.1)\n",
            "Requirement already satisfied: websockets<13.0,>=10.0 in /usr/local/lib/python3.10/dist-packages (from gradio-client==1.4.0->gradio) (12.0)\n",
            "Requirement already satisfied: idna>=2.8 in /usr/local/lib/python3.10/dist-packages (from anyio<5.0,>=3.0->gradio) (3.10)\n",
            "Requirement already satisfied: sniffio>=1.1 in /usr/local/lib/python3.10/dist-packages (from anyio<5.0,>=3.0->gradio) (1.3.1)\n",
            "Requirement already satisfied: exceptiongroup in /usr/local/lib/python3.10/dist-packages (from anyio<5.0,>=3.0->gradio) (1.2.2)\n",
            "Requirement already satisfied: starlette<0.41.0,>=0.37.2 in /usr/local/lib/python3.10/dist-packages (from fastapi<1.0->gradio) (0.40.0)\n",
            "Requirement already satisfied: certifi in /usr/local/lib/python3.10/dist-packages (from httpx>=0.24.1->gradio) (2024.8.30)\n",
            "Requirement already satisfied: httpcore==1.* in /usr/local/lib/python3.10/dist-packages (from httpx>=0.24.1->gradio) (1.0.6)\n",
            "Requirement already satisfied: h11<0.15,>=0.13 in /usr/local/lib/python3.10/dist-packages (from httpcore==1.*->httpx>=0.24.1->gradio) (0.14.0)\n",
            "Requirement already satisfied: filelock in /usr/local/lib/python3.10/dist-packages (from huggingface-hub>=0.25.1->gradio) (3.16.1)\n",
            "Requirement already satisfied: requests in /usr/local/lib/python3.10/dist-packages (from huggingface-hub>=0.25.1->gradio) (2.32.3)\n",
            "Requirement already satisfied: tqdm>=4.42.1 in /usr/local/lib/python3.10/dist-packages (from huggingface-hub>=0.25.1->gradio) (4.66.5)\n",
            "Requirement already satisfied: python-dateutil>=2.8.2 in /usr/local/lib/python3.10/dist-packages (from pandas<3.0,>=1.0->gradio) (2.8.2)\n",
            "Requirement already satisfied: pytz>=2020.1 in /usr/local/lib/python3.10/dist-packages (from pandas<3.0,>=1.0->gradio) (2024.2)\n",
            "Requirement already satisfied: tzdata>=2022.1 in /usr/local/lib/python3.10/dist-packages (from pandas<3.0,>=1.0->gradio) (2024.1)\n",
            "Requirement already satisfied: annotated-types>=0.6.0 in /usr/local/lib/python3.10/dist-packages (from pydantic>=2.0->gradio) (0.7.0)\n",
            "Requirement already satisfied: pydantic-core==2.23.4 in /usr/local/lib/python3.10/dist-packages (from pydantic>=2.0->gradio) (2.23.4)\n",
            "Requirement already satisfied: click>=8.0.0 in /usr/local/lib/python3.10/dist-packages (from typer<1.0,>=0.12->gradio) (8.1.7)\n",
            "Requirement already satisfied: shellingham>=1.3.0 in /usr/local/lib/python3.10/dist-packages (from typer<1.0,>=0.12->gradio) (1.5.4)\n",
            "Requirement already satisfied: rich>=10.11.0 in /usr/local/lib/python3.10/dist-packages (from typer<1.0,>=0.12->gradio) (13.8.1)\n",
            "Requirement already satisfied: six>=1.5 in /usr/local/lib/python3.10/dist-packages (from python-dateutil>=2.8.2->pandas<3.0,>=1.0->gradio) (1.16.0)\n",
            "Requirement already satisfied: markdown-it-py>=2.2.0 in /usr/local/lib/python3.10/dist-packages (from rich>=10.11.0->typer<1.0,>=0.12->gradio) (3.0.0)\n",
            "Requirement already satisfied: pygments<3.0.0,>=2.13.0 in /usr/local/lib/python3.10/dist-packages (from rich>=10.11.0->typer<1.0,>=0.12->gradio) (2.18.0)\n",
            "Requirement already satisfied: charset-normalizer<4,>=2 in /usr/local/lib/python3.10/dist-packages (from requests->huggingface-hub>=0.25.1->gradio) (3.3.2)\n",
            "Requirement already satisfied: urllib3<3,>=1.21.1 in /usr/local/lib/python3.10/dist-packages (from requests->huggingface-hub>=0.25.1->gradio) (2.2.3)\n",
            "Requirement already satisfied: mdurl~=0.1 in /usr/local/lib/python3.10/dist-packages (from markdown-it-py>=2.2.0->rich>=10.11.0->typer<1.0,>=0.12->gradio) (0.1.2)\n"
          ]
        }
      ]
    },
    {
      "cell_type": "markdown",
      "source": [
        "Next we start importing the necessary modules. The first import from google is important as it is how we will be accessing Colab's secrets.\n",
        "\n",
        "As we will see later there will be instances where API Keys will be necessary, but we don't want them to be visible in the code. There are other solutions to this, but given that Colab has the secrets function we will utilize that."
      ],
      "metadata": {
        "id": "XHf--CumMU5D"
      }
    },
    {
      "cell_type": "code",
      "source": [
        "# Import this if you're using Colab so you can retrieve stored Secrets\n",
        "from google.colab import userdata\n",
        "\n",
        "import os\n",
        "\n",
        "from haystack import Pipeline\n",
        "from haystack.components.converters import HTMLToDocument\n",
        "from haystack.components.writers import DocumentWriter\n",
        "from haystack.components.converters import MarkdownToDocument, PyPDFToDocument, TextFileToDocument\n",
        "from haystack.components.preprocessors import DocumentSplitter, DocumentCleaner\n",
        "from haystack.components.routers import FileTypeRouter\n",
        "from haystack.components.joiners import DocumentJoiner\n",
        "from haystack.components.embedders import SentenceTransformersDocumentEmbedder\n",
        "from haystack.document_stores.in_memory import InMemoryDocumentStore\n",
        "from haystack.components.fetchers import LinkContentFetcher\n",
        "from haystack_integrations.document_stores.chroma import ChromaDocumentStore"
      ],
      "metadata": {
        "colab": {
          "base_uri": "https://localhost:8080/"
        },
        "id": "PDTGo9ofKwm0",
        "outputId": "f066fcbb-ac57-4d59-ebd6-7dc6a18489e5"
      },
      "execution_count": null,
      "outputs": [
        {
          "output_type": "stream",
          "name": "stderr",
          "text": [
            "/usr/local/lib/python3.10/dist-packages/haystack/core/errors.py:34: DeprecationWarning: PipelineMaxLoops is deprecated and will be remove in version '2.7.0'; use PipelineMaxComponentRuns instead.\n",
            "  warnings.warn(\n"
          ]
        }
      ]
    },
    {
      "cell_type": "markdown",
      "source": [
        "# Building the Indexing Pipeline\n",
        "\n",
        "We start with an Indexing Pipeline, where we will take our data, convert them into a format our AI will understand, and place them into a storage.\n",
        "\n",
        "Haystack offers several modules, for our purposes will be making use of ChromaDB as can be seen in this import:\n",
        "\n",
        "`from haystack_integrations.document_stores.chroma import ChromaDocumentStore`\n",
        "\n",
        "## Setting up your data storage\n",
        "\n",
        "Since we're using Colab we've got our PDFs on Google Drive, and so we set the folder we've got them on as the path.\n",
        "\n",
        "With this our ChromaDB Document Store is set to place our pre-processed documents in `chromaDB_path`\n"
      ],
      "metadata": {
        "id": "ZkKA9D1QNME3"
      }
    },
    {
      "cell_type": "code",
      "source": [
        "# %cd drive/MyDrive/'Colab Notebooks'\n",
        "chromaDB_path = \"/content/drive/MyDrive/Colab Notebooks/OBZ Exam/Data Storage/chromaDB\"\n",
        "document_store = ChromaDocumentStore(persist_path=chromaDB_path)"
      ],
      "metadata": {
        "id": "PFGsYVqJNK13"
      },
      "execution_count": null,
      "outputs": []
    },
    {
      "cell_type": "markdown",
      "source": [
        "## File Handling\n",
        "\n",
        "While the files in the storage are primarily pdfs, we want to ensure our model is able to handle different types of input. We'll be using `FileTypeRouter` from Haystack which routes files paths or byte streams based on their type to the appropriate output for processing."
      ],
      "metadata": {
        "id": "ak51z9ckQdkx"
      }
    },
    {
      "cell_type": "code",
      "source": [
        "file_type_router = FileTypeRouter(mime_types=[\"text/plain\",\n",
        "                                              \"application/pdf\",\n",
        "                                              \"text/markdown\"])"
      ],
      "metadata": {
        "id": "98Gz52zAO9Hb"
      },
      "execution_count": null,
      "outputs": []
    },
    {
      "cell_type": "markdown",
      "source": [
        "The files will be routed to one of these converters:\n",
        "\n",
        "Converters extract the data from the file and convert them to a document format that haystack makes use of. Then the document_joiner takes their outputs and unifies them so that only a single output goes towards the cleaner."
      ],
      "metadata": {
        "id": "o0A0rVDZRyYv"
      }
    },
    {
      "cell_type": "code",
      "source": [
        "text_file_converter = TextFileToDocument()\n",
        "markdown_converter = MarkdownToDocument()\n",
        "pdf_converter = PyPDFToDocument()\n",
        "html_to_document= HTMLToDocument()\n",
        "document_joiner = DocumentJoiner()"
      ],
      "metadata": {
        "id": "HnpqWVmyRdcC"
      },
      "execution_count": null,
      "outputs": []
    },
    {
      "cell_type": "markdown",
      "source": [
        "For cleaning these documents Haystack provides a DocumentCleaner function. It also provides for a document splitter which divides the documents into lists of shorter text documents so that our LLMs can process them faster.\n",
        "\n",
        "Our documents are not that lengthy or we split them into small chunks and with some overlap just so that we maintains some semantic context between words."
      ],
      "metadata": {
        "id": "ZdmYN2VwSRDl"
      }
    },
    {
      "cell_type": "code",
      "source": [
        "document_cleaner = DocumentCleaner()\n",
        "document_splitter = DocumentSplitter(\n",
        "    split_by=\"word\",\n",
        "    split_length=150,\n",
        "    split_overlap=50\n",
        "    )"
      ],
      "metadata": {
        "id": "dPbVa9HFSLcX"
      },
      "execution_count": null,
      "outputs": []
    },
    {
      "cell_type": "markdown",
      "source": [
        "Next we need an embedder because our LLMs don't actually read the words but their vector representation, I've kept it simple and used the default model Haystack tends to use in their documentation.\n",
        "\n",
        "Finally, we need a document_writer or a function that will place these documents into our document store."
      ],
      "metadata": {
        "id": "UoQT_ig9TTmW"
      }
    },
    {
      "cell_type": "code",
      "source": [
        "document_embedder = SentenceTransformersDocumentEmbedder(model=\"sentence-transformers/all-MiniLM-L6-v2\")\n",
        "document_writer = DocumentWriter(document_store)"
      ],
      "metadata": {
        "id": "FoCtxZS1TLgt"
      },
      "execution_count": null,
      "outputs": []
    },
    {
      "cell_type": "markdown",
      "source": [
        "## Putting it all together\n",
        "\n",
        "We put the pipeline together, by instantiating it as components:"
      ],
      "metadata": {
        "id": "rLHjVrg7T6Bj"
      }
    },
    {
      "cell_type": "code",
      "source": [
        "preprocessing_pipeline = Pipeline()\n",
        "preprocessing_pipeline.add_component(instance=file_type_router,\n",
        "                                     name=\"file_type_router\")\n",
        "preprocessing_pipeline.add_component(instance=text_file_converter,\n",
        "                                     name=\"text_file_converter\")\n",
        "preprocessing_pipeline.add_component(instance=markdown_converter,\n",
        "                                     name=\"markdown_converter\")\n",
        "preprocessing_pipeline.add_component(instance=pdf_converter,\n",
        "                                     name=\"pypdf_converter\")\n",
        "preprocessing_pipeline.add_component(instance=html_to_document,\n",
        "                                     name=\"html_to_document\")\n",
        "preprocessing_pipeline.add_component(instance=document_joiner,\n",
        "                                     name=\"document_joiner\")\n",
        "preprocessing_pipeline.add_component(instance=document_cleaner,\n",
        "                                     name=\"document_cleaner\")\n",
        "preprocessing_pipeline.add_component(instance=document_splitter,\n",
        "                                     name=\"document_splitter\")\n",
        "preprocessing_pipeline.add_component(instance=document_embedder,\n",
        "                                     name=\"document_embedder\")\n",
        "preprocessing_pipeline.add_component(instance=document_writer,\n",
        "                                     name=\"document_writer\")"
      ],
      "metadata": {
        "id": "U2otgqusUEWV"
      },
      "execution_count": null,
      "outputs": []
    },
    {
      "cell_type": "markdown",
      "source": [
        "We then connect them, which is done by taking the output of one component and placing it into the input of another.\n",
        "\n",
        "It should be important to note here that Haystack only allows one component to be connected to another component, meaning I can't connect `document_joiner` to `document_cleaner` and then `document_splitter` at the same time.\n",
        "\n",
        "There are exceptions for `document_joiner` where it takes several outputs from our different converters."
      ],
      "metadata": {
        "id": "VAmQssLXUS-U"
      }
    },
    {
      "cell_type": "code",
      "source": [
        "#Connect the components, output to input\n",
        "preprocessing_pipeline.connect(\"file_type_router.text/plain\", \"text_file_converter.sources\")\n",
        "preprocessing_pipeline.connect(\"file_type_router.application/pdf\", \"pypdf_converter.sources\")\n",
        "preprocessing_pipeline.connect(\"file_type_router.text/markdown\", \"markdown_converter.sources\")\n",
        "preprocessing_pipeline.connect(\"file_type_router.text/plain\", \"html_to_document.sources\")\n",
        "# preprocessing_pipeline.connect(\"link_content_fetcher.streams\", \"html_to_document_link\")\n",
        "preprocessing_pipeline.connect(\"text_file_converter\", \"document_joiner\")\n",
        "preprocessing_pipeline.connect(\"html_to_document\", \"document_joiner\")\n",
        "preprocessing_pipeline.connect(\"pypdf_converter\", \"document_joiner\")\n",
        "preprocessing_pipeline.connect(\"markdown_converter\", \"document_joiner\")\n",
        "preprocessing_pipeline.connect(\"document_joiner\", \"document_cleaner\")\n",
        "preprocessing_pipeline.connect(\"document_cleaner\", \"document_splitter\")\n",
        "preprocessing_pipeline.connect(\"document_splitter\", \"document_embedder\")\n",
        "preprocessing_pipeline.connect(\"document_embedder\", \"document_writer\")"
      ],
      "metadata": {
        "colab": {
          "base_uri": "https://localhost:8080/"
        },
        "id": "v4jwPgnKUSfd",
        "outputId": "a64036bc-67c2-4540-a8a4-4b23559d525d"
      },
      "execution_count": null,
      "outputs": [
        {
          "output_type": "execute_result",
          "data": {
            "text/plain": [
              "<haystack.core.pipeline.pipeline.Pipeline object at 0x79a77a4de1a0>\n",
              "🚅 Components\n",
              "  - file_type_router: FileTypeRouter\n",
              "  - text_file_converter: TextFileToDocument\n",
              "  - markdown_converter: MarkdownToDocument\n",
              "  - pypdf_converter: PyPDFToDocument\n",
              "  - html_to_document: HTMLToDocument\n",
              "  - document_joiner: DocumentJoiner\n",
              "  - document_cleaner: DocumentCleaner\n",
              "  - document_splitter: DocumentSplitter\n",
              "  - document_embedder: SentenceTransformersDocumentEmbedder\n",
              "  - document_writer: DocumentWriter\n",
              "🛤️ Connections\n",
              "  - file_type_router.text/plain -> text_file_converter.sources (List[Path])\n",
              "  - file_type_router.application/pdf -> pypdf_converter.sources (List[Path])\n",
              "  - file_type_router.text/markdown -> markdown_converter.sources (List[Path])\n",
              "  - file_type_router.text/plain -> html_to_document.sources (List[Path])\n",
              "  - text_file_converter.documents -> document_joiner.documents (List[Document])\n",
              "  - markdown_converter.documents -> document_joiner.documents (List[Document])\n",
              "  - pypdf_converter.documents -> document_joiner.documents (List[Document])\n",
              "  - html_to_document.documents -> document_joiner.documents (List[Document])\n",
              "  - document_joiner.documents -> document_cleaner.documents (List[Document])\n",
              "  - document_cleaner.documents -> document_splitter.documents (List[Document])\n",
              "  - document_splitter.documents -> document_embedder.documents (List[Document])\n",
              "  - document_embedder.documents -> document_writer.documents (List[Document])"
            ]
          },
          "metadata": {},
          "execution_count": 11
        }
      ]
    },
    {
      "cell_type": "markdown",
      "source": [
        "We run the pipeline and our very first component requires an input, in this case it is the folder on my google drive where the pdfs are stored.\n",
        "\n",
        "We use the `glob()` method to get any  and all files and directories inside the folder.\n",
        "\n",
        "We run the pipeline and find ourselves with 11 documents written and placed in our document store."
      ],
      "metadata": {
        "id": "ZVQ51H2RVI55"
      }
    },
    {
      "cell_type": "code",
      "source": [
        "from pathlib import Path\n",
        "data_path = \"/content/drive/MyDrive/Colab Notebooks/OBZ Exam/Data Storage\"\n",
        "preprocessing_pipeline.run(\n",
        "    {\"file_type_router\": {\"sources\": list(Path(data_path).glob(\"**/*\"))}}\n",
        "    )"
      ],
      "metadata": {
        "colab": {
          "base_uri": "https://localhost:8080/",
          "height": 1000,
          "referenced_widgets": [
            "91b9ba2c9c1c48dc8056ae756dd673d8",
            "7ef20ff6a5984f36899101c7942f0c9e",
            "0a79fd1143734779b93598286bd4999e",
            "a3944c2146c64ac18625646ed09a413b",
            "f2feba50297f49e8a27a95cbb9b26e8e",
            "43a4f082baff4ec4a4437916696eec77",
            "587b815672f94045bafb7c5e680f60d9",
            "c2c81720ffd44824994f94f368a5aa0d",
            "8f62616d48c54c5089aa332f8a73bca7",
            "a36f6c88bb8e4b2e810111b763d91310",
            "6ae53bab24d044389ba5d0482b75a018"
          ]
        },
        "id": "RPpwb6FxVu_V",
        "outputId": "cd0c5f07-009f-417f-c61a-04bef539695f"
      },
      "execution_count": null,
      "outputs": [
        {
          "output_type": "stream",
          "name": "stderr",
          "text": [
            "/usr/local/lib/python3.10/dist-packages/transformers/tokenization_utils_base.py:1601: FutureWarning: `clean_up_tokenization_spaces` was not set. It will be set to `True` by default. This behavior will be depracted in transformers v4.45, and will be then set to `False` by default. For more details check this issue: https://github.com/huggingface/transformers/issues/31884\n",
            "  warnings.warn(\n"
          ]
        },
        {
          "output_type": "display_data",
          "data": {
            "text/plain": [
              "Batches:   0%|          | 0/1 [00:00<?, ?it/s]"
            ],
            "application/vnd.jupyter.widget-view+json": {
              "version_major": 2,
              "version_minor": 0,
              "model_id": "91b9ba2c9c1c48dc8056ae756dd673d8"
            }
          },
          "metadata": {}
        },
        {
          "output_type": "stream",
          "name": "stderr",
          "text": [
            "WARNING:haystack_integrations.document_stores.chroma.document_store:Document ee3cc60d1c97ab534033712f45789e40042c43d753442685ae9b114ab270994d contains `meta` values of unsupported types for the keys: _split_overlap. These items will be discarded. Supported types are: str, int, float, bool.\n",
            "WARNING:chromadb.segment.impl.vector.local_persistent_hnsw:Add of existing embedding ID: ee3cc60d1c97ab534033712f45789e40042c43d753442685ae9b114ab270994d\n",
            "WARNING:chromadb.segment.impl.vector.local_persistent_hnsw:Add of existing embedding ID: 1ebd8132c804d51bf082f0c52afcc859b0ec25d8d80521aaf0d9c905050c2cf4\n",
            "WARNING:chromadb.segment.impl.vector.local_persistent_hnsw:Add of existing embedding ID: 00722a6d5ba2401f15e14a84318f00e23dd540430cf854f42ab1cb9e2cac088f\n",
            "WARNING:chromadb.segment.impl.vector.local_persistent_hnsw:Add of existing embedding ID: eb7d0f869e9970b066b4fb91452f10832eb61401b236200443f8129cecab8e59\n",
            "WARNING:chromadb.segment.impl.vector.local_persistent_hnsw:Add of existing embedding ID: 00889c9a068efc283572eea0ccb714f48450163335935aaa206e1035a9071377\n",
            "WARNING:chromadb.segment.impl.vector.local_persistent_hnsw:Add of existing embedding ID: 5b0e4154e763e22edfa737045475fd1246098e28db97c795ed355662b40bce87\n",
            "WARNING:chromadb.segment.impl.vector.local_persistent_hnsw:Add of existing embedding ID: 32bb436f25b30c4cfc57034853a392b22d8a18334830b59067b66038479de61e\n",
            "WARNING:chromadb.segment.impl.vector.local_persistent_hnsw:Add of existing embedding ID: ee3cc60d1c97ab534033712f45789e40042c43d753442685ae9b114ab270994d\n",
            "WARNING:chromadb.segment.impl.vector.local_persistent_hnsw:Add of existing embedding ID: 1ebd8132c804d51bf082f0c52afcc859b0ec25d8d80521aaf0d9c905050c2cf4\n",
            "WARNING:chromadb.segment.impl.vector.local_persistent_hnsw:Add of existing embedding ID: 00722a6d5ba2401f15e14a84318f00e23dd540430cf854f42ab1cb9e2cac088f\n",
            "WARNING:chromadb.segment.impl.vector.local_persistent_hnsw:Add of existing embedding ID: eb7d0f869e9970b066b4fb91452f10832eb61401b236200443f8129cecab8e59\n",
            "WARNING:chromadb.segment.impl.vector.local_persistent_hnsw:Add of existing embedding ID: 00889c9a068efc283572eea0ccb714f48450163335935aaa206e1035a9071377\n",
            "WARNING:chromadb.segment.impl.vector.local_persistent_hnsw:Add of existing embedding ID: 5b0e4154e763e22edfa737045475fd1246098e28db97c795ed355662b40bce87\n",
            "WARNING:chromadb.segment.impl.vector.local_persistent_hnsw:Add of existing embedding ID: 32bb436f25b30c4cfc57034853a392b22d8a18334830b59067b66038479de61e\n",
            "WARNING:chromadb.segment.impl.vector.local_persistent_hnsw:Add of existing embedding ID: 5a7d906b0075c058367d562a97b7e2b03216100fb4f241aea8061dacf8814bd2\n",
            "WARNING:chromadb.segment.impl.vector.local_persistent_hnsw:Add of existing embedding ID: 025ac038834ca66e0ec3dab8ef01a102e3bee54e384a4ff48031c8ced53ee42f\n",
            "WARNING:chromadb.segment.impl.vector.local_persistent_hnsw:Add of existing embedding ID: 400e91170eb096c40b05a186264f01d18ec520211ba2b6ce1a2e5112aa752d70\n",
            "WARNING:chromadb.segment.impl.vector.local_persistent_hnsw:Add of existing embedding ID: 8c2ded3105423b35e301c7e33ea0aa78a93b35084e7b20910f7d387e0973948a\n",
            "WARNING:chromadb.segment.impl.vector.local_persistent_hnsw:Add of existing embedding ID: ee3cc60d1c97ab534033712f45789e40042c43d753442685ae9b114ab270994d\n",
            "WARNING:chromadb.segment.impl.vector.local_persistent_hnsw:Add of existing embedding ID: 1ebd8132c804d51bf082f0c52afcc859b0ec25d8d80521aaf0d9c905050c2cf4\n",
            "WARNING:chromadb.segment.impl.vector.local_persistent_hnsw:Add of existing embedding ID: 00722a6d5ba2401f15e14a84318f00e23dd540430cf854f42ab1cb9e2cac088f\n",
            "WARNING:chromadb.segment.impl.vector.local_persistent_hnsw:Add of existing embedding ID: eb7d0f869e9970b066b4fb91452f10832eb61401b236200443f8129cecab8e59\n",
            "WARNING:chromadb.segment.impl.vector.local_persistent_hnsw:Add of existing embedding ID: 00889c9a068efc283572eea0ccb714f48450163335935aaa206e1035a9071377\n",
            "WARNING:chromadb.segment.impl.vector.local_persistent_hnsw:Add of existing embedding ID: 5b0e4154e763e22edfa737045475fd1246098e28db97c795ed355662b40bce87\n",
            "WARNING:chromadb.segment.impl.vector.local_persistent_hnsw:Add of existing embedding ID: 32bb436f25b30c4cfc57034853a392b22d8a18334830b59067b66038479de61e\n",
            "WARNING:chromadb.segment.impl.vector.local_persistent_hnsw:Add of existing embedding ID: 5a7d906b0075c058367d562a97b7e2b03216100fb4f241aea8061dacf8814bd2\n",
            "WARNING:chromadb.segment.impl.vector.local_persistent_hnsw:Add of existing embedding ID: 025ac038834ca66e0ec3dab8ef01a102e3bee54e384a4ff48031c8ced53ee42f\n",
            "WARNING:chromadb.segment.impl.vector.local_persistent_hnsw:Add of existing embedding ID: 400e91170eb096c40b05a186264f01d18ec520211ba2b6ce1a2e5112aa752d70\n",
            "WARNING:chromadb.segment.impl.vector.local_persistent_hnsw:Add of existing embedding ID: 8c2ded3105423b35e301c7e33ea0aa78a93b35084e7b20910f7d387e0973948a\n",
            "WARNING:chromadb.segment.impl.vector.local_persistent_hnsw:Add of existing embedding ID: ee3cc60d1c97ab534033712f45789e40042c43d753442685ae9b114ab270994d\n",
            "WARNING:chromadb.segment.impl.vector.local_persistent_hnsw:Add of existing embedding ID: 1ebd8132c804d51bf082f0c52afcc859b0ec25d8d80521aaf0d9c905050c2cf4\n",
            "WARNING:chromadb.segment.impl.vector.local_persistent_hnsw:Add of existing embedding ID: 00722a6d5ba2401f15e14a84318f00e23dd540430cf854f42ab1cb9e2cac088f\n",
            "WARNING:chromadb.segment.impl.vector.local_persistent_hnsw:Add of existing embedding ID: eb7d0f869e9970b066b4fb91452f10832eb61401b236200443f8129cecab8e59\n",
            "WARNING:chromadb.segment.impl.vector.local_persistent_hnsw:Add of existing embedding ID: 00889c9a068efc283572eea0ccb714f48450163335935aaa206e1035a9071377\n",
            "WARNING:chromadb.segment.impl.vector.local_persistent_hnsw:Add of existing embedding ID: 5b0e4154e763e22edfa737045475fd1246098e28db97c795ed355662b40bce87\n",
            "WARNING:chromadb.segment.impl.vector.local_persistent_hnsw:Add of existing embedding ID: 32bb436f25b30c4cfc57034853a392b22d8a18334830b59067b66038479de61e\n",
            "WARNING:chromadb.segment.impl.vector.local_persistent_hnsw:Add of existing embedding ID: 5a7d906b0075c058367d562a97b7e2b03216100fb4f241aea8061dacf8814bd2\n",
            "WARNING:chromadb.segment.impl.vector.local_persistent_hnsw:Add of existing embedding ID: 025ac038834ca66e0ec3dab8ef01a102e3bee54e384a4ff48031c8ced53ee42f\n",
            "WARNING:chromadb.segment.impl.vector.local_persistent_hnsw:Add of existing embedding ID: 400e91170eb096c40b05a186264f01d18ec520211ba2b6ce1a2e5112aa752d70\n",
            "WARNING:chromadb.segment.impl.vector.local_persistent_hnsw:Add of existing embedding ID: 8c2ded3105423b35e301c7e33ea0aa78a93b35084e7b20910f7d387e0973948a\n",
            "WARNING:chromadb.segment.impl.vector.local_persistent_hnsw:Add of existing embedding ID: ee3cc60d1c97ab534033712f45789e40042c43d753442685ae9b114ab270994d\n",
            "WARNING:chromadb.segment.impl.vector.local_persistent_hnsw:Add of existing embedding ID: 1ebd8132c804d51bf082f0c52afcc859b0ec25d8d80521aaf0d9c905050c2cf4\n",
            "WARNING:chromadb.segment.impl.vector.local_persistent_hnsw:Add of existing embedding ID: 00722a6d5ba2401f15e14a84318f00e23dd540430cf854f42ab1cb9e2cac088f\n",
            "WARNING:chromadb.segment.impl.vector.local_persistent_hnsw:Add of existing embedding ID: eb7d0f869e9970b066b4fb91452f10832eb61401b236200443f8129cecab8e59\n",
            "WARNING:chromadb.segment.impl.vector.local_persistent_hnsw:Add of existing embedding ID: 00889c9a068efc283572eea0ccb714f48450163335935aaa206e1035a9071377\n",
            "WARNING:chromadb.segment.impl.vector.local_persistent_hnsw:Add of existing embedding ID: 5b0e4154e763e22edfa737045475fd1246098e28db97c795ed355662b40bce87\n",
            "WARNING:chromadb.segment.impl.vector.local_persistent_hnsw:Add of existing embedding ID: 32bb436f25b30c4cfc57034853a392b22d8a18334830b59067b66038479de61e\n",
            "WARNING:chromadb.segment.impl.vector.local_persistent_hnsw:Add of existing embedding ID: 5a7d906b0075c058367d562a97b7e2b03216100fb4f241aea8061dacf8814bd2\n",
            "WARNING:chromadb.segment.impl.vector.local_persistent_hnsw:Add of existing embedding ID: 025ac038834ca66e0ec3dab8ef01a102e3bee54e384a4ff48031c8ced53ee42f\n",
            "WARNING:chromadb.segment.impl.vector.local_persistent_hnsw:Add of existing embedding ID: 400e91170eb096c40b05a186264f01d18ec520211ba2b6ce1a2e5112aa752d70\n",
            "WARNING:chromadb.segment.impl.vector.local_persistent_hnsw:Add of existing embedding ID: 8c2ded3105423b35e301c7e33ea0aa78a93b35084e7b20910f7d387e0973948a\n",
            "WARNING:chromadb.segment.impl.vector.local_persistent_hnsw:Add of existing embedding ID: ee3cc60d1c97ab534033712f45789e40042c43d753442685ae9b114ab270994d\n",
            "WARNING:chromadb.segment.impl.vector.local_persistent_hnsw:Add of existing embedding ID: 1ebd8132c804d51bf082f0c52afcc859b0ec25d8d80521aaf0d9c905050c2cf4\n",
            "WARNING:chromadb.segment.impl.vector.local_persistent_hnsw:Add of existing embedding ID: 00722a6d5ba2401f15e14a84318f00e23dd540430cf854f42ab1cb9e2cac088f\n",
            "WARNING:chromadb.segment.impl.vector.local_persistent_hnsw:Add of existing embedding ID: eb7d0f869e9970b066b4fb91452f10832eb61401b236200443f8129cecab8e59\n",
            "WARNING:chromadb.segment.impl.vector.local_persistent_hnsw:Add of existing embedding ID: 00889c9a068efc283572eea0ccb714f48450163335935aaa206e1035a9071377\n",
            "WARNING:chromadb.segment.impl.vector.local_persistent_hnsw:Add of existing embedding ID: 5b0e4154e763e22edfa737045475fd1246098e28db97c795ed355662b40bce87\n",
            "WARNING:chromadb.segment.impl.vector.local_persistent_hnsw:Add of existing embedding ID: 32bb436f25b30c4cfc57034853a392b22d8a18334830b59067b66038479de61e\n",
            "WARNING:chromadb.segment.impl.vector.local_persistent_hnsw:Add of existing embedding ID: 5a7d906b0075c058367d562a97b7e2b03216100fb4f241aea8061dacf8814bd2\n",
            "WARNING:chromadb.segment.impl.vector.local_persistent_hnsw:Add of existing embedding ID: 025ac038834ca66e0ec3dab8ef01a102e3bee54e384a4ff48031c8ced53ee42f\n",
            "WARNING:chromadb.segment.impl.vector.local_persistent_hnsw:Add of existing embedding ID: 400e91170eb096c40b05a186264f01d18ec520211ba2b6ce1a2e5112aa752d70\n",
            "WARNING:chromadb.segment.impl.vector.local_persistent_hnsw:Add of existing embedding ID: 8c2ded3105423b35e301c7e33ea0aa78a93b35084e7b20910f7d387e0973948a\n",
            "WARNING:chromadb.segment.impl.vector.local_persistent_hnsw:Add of existing embedding ID: ee3cc60d1c97ab534033712f45789e40042c43d753442685ae9b114ab270994d\n",
            "WARNING:chromadb.segment.impl.vector.local_persistent_hnsw:Add of existing embedding ID: 1ebd8132c804d51bf082f0c52afcc859b0ec25d8d80521aaf0d9c905050c2cf4\n",
            "WARNING:chromadb.segment.impl.vector.local_persistent_hnsw:Add of existing embedding ID: 00722a6d5ba2401f15e14a84318f00e23dd540430cf854f42ab1cb9e2cac088f\n",
            "WARNING:chromadb.segment.impl.vector.local_persistent_hnsw:Add of existing embedding ID: eb7d0f869e9970b066b4fb91452f10832eb61401b236200443f8129cecab8e59\n",
            "WARNING:chromadb.segment.impl.vector.local_persistent_hnsw:Add of existing embedding ID: 00889c9a068efc283572eea0ccb714f48450163335935aaa206e1035a9071377\n",
            "WARNING:chromadb.segment.impl.vector.local_persistent_hnsw:Add of existing embedding ID: 5b0e4154e763e22edfa737045475fd1246098e28db97c795ed355662b40bce87\n",
            "WARNING:chromadb.segment.impl.vector.local_persistent_hnsw:Add of existing embedding ID: 32bb436f25b30c4cfc57034853a392b22d8a18334830b59067b66038479de61e\n",
            "WARNING:chromadb.segment.impl.vector.local_persistent_hnsw:Add of existing embedding ID: 5a7d906b0075c058367d562a97b7e2b03216100fb4f241aea8061dacf8814bd2\n",
            "WARNING:chromadb.segment.impl.vector.local_persistent_hnsw:Add of existing embedding ID: 025ac038834ca66e0ec3dab8ef01a102e3bee54e384a4ff48031c8ced53ee42f\n",
            "WARNING:chromadb.segment.impl.vector.local_persistent_hnsw:Add of existing embedding ID: 400e91170eb096c40b05a186264f01d18ec520211ba2b6ce1a2e5112aa752d70\n",
            "WARNING:chromadb.segment.impl.vector.local_persistent_hnsw:Add of existing embedding ID: 8c2ded3105423b35e301c7e33ea0aa78a93b35084e7b20910f7d387e0973948a\n",
            "WARNING:chromadb.segment.impl.vector.local_persistent_hnsw:Add of existing embedding ID: ee3cc60d1c97ab534033712f45789e40042c43d753442685ae9b114ab270994d\n",
            "WARNING:chromadb.segment.impl.vector.local_persistent_hnsw:Add of existing embedding ID: 1ebd8132c804d51bf082f0c52afcc859b0ec25d8d80521aaf0d9c905050c2cf4\n",
            "WARNING:chromadb.segment.impl.vector.local_persistent_hnsw:Add of existing embedding ID: 00722a6d5ba2401f15e14a84318f00e23dd540430cf854f42ab1cb9e2cac088f\n",
            "WARNING:chromadb.segment.impl.vector.local_persistent_hnsw:Add of existing embedding ID: eb7d0f869e9970b066b4fb91452f10832eb61401b236200443f8129cecab8e59\n",
            "WARNING:chromadb.segment.impl.vector.local_persistent_hnsw:Add of existing embedding ID: 00889c9a068efc283572eea0ccb714f48450163335935aaa206e1035a9071377\n",
            "WARNING:chromadb.segment.impl.vector.local_persistent_hnsw:Add of existing embedding ID: 5b0e4154e763e22edfa737045475fd1246098e28db97c795ed355662b40bce87\n",
            "WARNING:chromadb.segment.impl.vector.local_persistent_hnsw:Add of existing embedding ID: 32bb436f25b30c4cfc57034853a392b22d8a18334830b59067b66038479de61e\n",
            "WARNING:chromadb.segment.impl.vector.local_persistent_hnsw:Add of existing embedding ID: 5a7d906b0075c058367d562a97b7e2b03216100fb4f241aea8061dacf8814bd2\n",
            "WARNING:chromadb.segment.impl.vector.local_persistent_hnsw:Add of existing embedding ID: 025ac038834ca66e0ec3dab8ef01a102e3bee54e384a4ff48031c8ced53ee42f\n",
            "WARNING:chromadb.segment.impl.vector.local_persistent_hnsw:Add of existing embedding ID: 400e91170eb096c40b05a186264f01d18ec520211ba2b6ce1a2e5112aa752d70\n",
            "WARNING:chromadb.segment.impl.vector.local_persistent_hnsw:Add of existing embedding ID: 8c2ded3105423b35e301c7e33ea0aa78a93b35084e7b20910f7d387e0973948a\n",
            "WARNING:chromadb.segment.impl.vector.local_persistent_hnsw:Add of existing embedding ID: ee3cc60d1c97ab534033712f45789e40042c43d753442685ae9b114ab270994d\n",
            "WARNING:chromadb.segment.impl.vector.local_persistent_hnsw:Add of existing embedding ID: 1ebd8132c804d51bf082f0c52afcc859b0ec25d8d80521aaf0d9c905050c2cf4\n",
            "WARNING:chromadb.segment.impl.vector.local_persistent_hnsw:Add of existing embedding ID: 00722a6d5ba2401f15e14a84318f00e23dd540430cf854f42ab1cb9e2cac088f\n",
            "WARNING:chromadb.segment.impl.vector.local_persistent_hnsw:Add of existing embedding ID: eb7d0f869e9970b066b4fb91452f10832eb61401b236200443f8129cecab8e59\n",
            "WARNING:chromadb.segment.impl.vector.local_persistent_hnsw:Add of existing embedding ID: 00889c9a068efc283572eea0ccb714f48450163335935aaa206e1035a9071377\n",
            "WARNING:chromadb.segment.impl.vector.local_persistent_hnsw:Add of existing embedding ID: 5b0e4154e763e22edfa737045475fd1246098e28db97c795ed355662b40bce87\n",
            "WARNING:chromadb.segment.impl.vector.local_persistent_hnsw:Add of existing embedding ID: 32bb436f25b30c4cfc57034853a392b22d8a18334830b59067b66038479de61e\n",
            "WARNING:chromadb.segment.impl.vector.local_persistent_hnsw:Add of existing embedding ID: 5a7d906b0075c058367d562a97b7e2b03216100fb4f241aea8061dacf8814bd2\n",
            "WARNING:chromadb.segment.impl.vector.local_persistent_hnsw:Add of existing embedding ID: 025ac038834ca66e0ec3dab8ef01a102e3bee54e384a4ff48031c8ced53ee42f\n",
            "WARNING:chromadb.segment.impl.vector.local_persistent_hnsw:Add of existing embedding ID: 400e91170eb096c40b05a186264f01d18ec520211ba2b6ce1a2e5112aa752d70\n",
            "WARNING:chromadb.segment.impl.vector.local_persistent_hnsw:Add of existing embedding ID: 8c2ded3105423b35e301c7e33ea0aa78a93b35084e7b20910f7d387e0973948a\n",
            "WARNING:chromadb.segment.impl.vector.local_persistent_hnsw:Add of existing embedding ID: ee3cc60d1c97ab534033712f45789e40042c43d753442685ae9b114ab270994d\n",
            "WARNING:chromadb.segment.impl.vector.local_persistent_hnsw:Add of existing embedding ID: 1ebd8132c804d51bf082f0c52afcc859b0ec25d8d80521aaf0d9c905050c2cf4\n",
            "WARNING:chromadb.segment.impl.vector.local_persistent_hnsw:Add of existing embedding ID: 00722a6d5ba2401f15e14a84318f00e23dd540430cf854f42ab1cb9e2cac088f\n",
            "WARNING:chromadb.segment.impl.vector.local_persistent_hnsw:Add of existing embedding ID: eb7d0f869e9970b066b4fb91452f10832eb61401b236200443f8129cecab8e59\n",
            "WARNING:chromadb.segment.impl.vector.local_persistent_hnsw:Add of existing embedding ID: 00889c9a068efc283572eea0ccb714f48450163335935aaa206e1035a9071377\n",
            "WARNING:chromadb.segment.impl.vector.local_persistent_hnsw:Add of existing embedding ID: 5b0e4154e763e22edfa737045475fd1246098e28db97c795ed355662b40bce87\n",
            "WARNING:chromadb.segment.impl.vector.local_persistent_hnsw:Add of existing embedding ID: 32bb436f25b30c4cfc57034853a392b22d8a18334830b59067b66038479de61e\n",
            "WARNING:chromadb.segment.impl.vector.local_persistent_hnsw:Add of existing embedding ID: 5a7d906b0075c058367d562a97b7e2b03216100fb4f241aea8061dacf8814bd2\n",
            "WARNING:chromadb.segment.impl.vector.local_persistent_hnsw:Add of existing embedding ID: 025ac038834ca66e0ec3dab8ef01a102e3bee54e384a4ff48031c8ced53ee42f\n",
            "WARNING:chromadb.segment.impl.vector.local_persistent_hnsw:Add of existing embedding ID: 400e91170eb096c40b05a186264f01d18ec520211ba2b6ce1a2e5112aa752d70\n",
            "WARNING:chromadb.segment.impl.vector.local_persistent_hnsw:Add of existing embedding ID: 8c2ded3105423b35e301c7e33ea0aa78a93b35084e7b20910f7d387e0973948a\n",
            "WARNING:chromadb.segment.impl.vector.local_persistent_hnsw:Add of existing embedding ID: ee3cc60d1c97ab534033712f45789e40042c43d753442685ae9b114ab270994d\n",
            "WARNING:chromadb.segment.impl.vector.local_persistent_hnsw:Add of existing embedding ID: 1ebd8132c804d51bf082f0c52afcc859b0ec25d8d80521aaf0d9c905050c2cf4\n",
            "WARNING:chromadb.segment.impl.vector.local_persistent_hnsw:Add of existing embedding ID: 00722a6d5ba2401f15e14a84318f00e23dd540430cf854f42ab1cb9e2cac088f\n",
            "WARNING:chromadb.segment.impl.vector.local_persistent_hnsw:Add of existing embedding ID: eb7d0f869e9970b066b4fb91452f10832eb61401b236200443f8129cecab8e59\n",
            "WARNING:chromadb.segment.impl.vector.local_persistent_hnsw:Add of existing embedding ID: 00889c9a068efc283572eea0ccb714f48450163335935aaa206e1035a9071377\n",
            "WARNING:chromadb.segment.impl.vector.local_persistent_hnsw:Add of existing embedding ID: 5b0e4154e763e22edfa737045475fd1246098e28db97c795ed355662b40bce87\n",
            "WARNING:chromadb.segment.impl.vector.local_persistent_hnsw:Add of existing embedding ID: 32bb436f25b30c4cfc57034853a392b22d8a18334830b59067b66038479de61e\n",
            "WARNING:chromadb.segment.impl.vector.local_persistent_hnsw:Add of existing embedding ID: ee3cc60d1c97ab534033712f45789e40042c43d753442685ae9b114ab270994d\n",
            "WARNING:chromadb.segment.impl.vector.local_persistent_hnsw:Add of existing embedding ID: 1ebd8132c804d51bf082f0c52afcc859b0ec25d8d80521aaf0d9c905050c2cf4\n",
            "WARNING:chromadb.segment.impl.vector.local_persistent_hnsw:Add of existing embedding ID: 00722a6d5ba2401f15e14a84318f00e23dd540430cf854f42ab1cb9e2cac088f\n",
            "WARNING:chromadb.segment.impl.vector.local_persistent_hnsw:Add of existing embedding ID: eb7d0f869e9970b066b4fb91452f10832eb61401b236200443f8129cecab8e59\n",
            "WARNING:chromadb.segment.impl.vector.local_persistent_hnsw:Add of existing embedding ID: 00889c9a068efc283572eea0ccb714f48450163335935aaa206e1035a9071377\n",
            "WARNING:chromadb.segment.impl.vector.local_persistent_hnsw:Add of existing embedding ID: 5b0e4154e763e22edfa737045475fd1246098e28db97c795ed355662b40bce87\n",
            "WARNING:chromadb.segment.impl.vector.local_persistent_hnsw:Add of existing embedding ID: 32bb436f25b30c4cfc57034853a392b22d8a18334830b59067b66038479de61e\n",
            "WARNING:chromadb.segment.impl.vector.local_persistent_hnsw:Add of existing embedding ID: 5a7d906b0075c058367d562a97b7e2b03216100fb4f241aea8061dacf8814bd2\n",
            "WARNING:chromadb.segment.impl.vector.local_persistent_hnsw:Add of existing embedding ID: 025ac038834ca66e0ec3dab8ef01a102e3bee54e384a4ff48031c8ced53ee42f\n",
            "WARNING:chromadb.segment.impl.vector.local_persistent_hnsw:Add of existing embedding ID: 400e91170eb096c40b05a186264f01d18ec520211ba2b6ce1a2e5112aa752d70\n",
            "WARNING:chromadb.segment.impl.vector.local_persistent_hnsw:Add of existing embedding ID: 8c2ded3105423b35e301c7e33ea0aa78a93b35084e7b20910f7d387e0973948a\n",
            "WARNING:chromadb.segment.impl.metadata.sqlite:Insert of existing embedding ID: ee3cc60d1c97ab534033712f45789e40042c43d753442685ae9b114ab270994d\n",
            "WARNING:chromadb.segment.impl.vector.local_persistent_hnsw:Add of existing embedding ID: ee3cc60d1c97ab534033712f45789e40042c43d753442685ae9b114ab270994d\n",
            "WARNING:haystack_integrations.document_stores.chroma.document_store:Document 1ebd8132c804d51bf082f0c52afcc859b0ec25d8d80521aaf0d9c905050c2cf4 contains `meta` values of unsupported types for the keys: _split_overlap. These items will be discarded. Supported types are: str, int, float, bool.\n",
            "WARNING:chromadb.segment.impl.metadata.sqlite:Insert of existing embedding ID: 1ebd8132c804d51bf082f0c52afcc859b0ec25d8d80521aaf0d9c905050c2cf4\n",
            "WARNING:chromadb.segment.impl.vector.local_persistent_hnsw:Add of existing embedding ID: 1ebd8132c804d51bf082f0c52afcc859b0ec25d8d80521aaf0d9c905050c2cf4\n",
            "WARNING:haystack_integrations.document_stores.chroma.document_store:Document 00722a6d5ba2401f15e14a84318f00e23dd540430cf854f42ab1cb9e2cac088f contains `meta` values of unsupported types for the keys: _split_overlap. These items will be discarded. Supported types are: str, int, float, bool.\n",
            "WARNING:chromadb.segment.impl.metadata.sqlite:Insert of existing embedding ID: 00722a6d5ba2401f15e14a84318f00e23dd540430cf854f42ab1cb9e2cac088f\n",
            "WARNING:chromadb.segment.impl.vector.local_persistent_hnsw:Add of existing embedding ID: 00722a6d5ba2401f15e14a84318f00e23dd540430cf854f42ab1cb9e2cac088f\n",
            "WARNING:haystack_integrations.document_stores.chroma.document_store:Document eb7d0f869e9970b066b4fb91452f10832eb61401b236200443f8129cecab8e59 contains `meta` values of unsupported types for the keys: _split_overlap. These items will be discarded. Supported types are: str, int, float, bool.\n",
            "WARNING:chromadb.segment.impl.metadata.sqlite:Insert of existing embedding ID: eb7d0f869e9970b066b4fb91452f10832eb61401b236200443f8129cecab8e59\n",
            "WARNING:chromadb.segment.impl.vector.local_persistent_hnsw:Add of existing embedding ID: eb7d0f869e9970b066b4fb91452f10832eb61401b236200443f8129cecab8e59\n",
            "WARNING:haystack_integrations.document_stores.chroma.document_store:Document 00889c9a068efc283572eea0ccb714f48450163335935aaa206e1035a9071377 contains `meta` values of unsupported types for the keys: _split_overlap. These items will be discarded. Supported types are: str, int, float, bool.\n",
            "WARNING:chromadb.segment.impl.metadata.sqlite:Insert of existing embedding ID: 00889c9a068efc283572eea0ccb714f48450163335935aaa206e1035a9071377\n",
            "WARNING:chromadb.segment.impl.vector.local_persistent_hnsw:Add of existing embedding ID: 00889c9a068efc283572eea0ccb714f48450163335935aaa206e1035a9071377\n",
            "WARNING:haystack_integrations.document_stores.chroma.document_store:Document 5b0e4154e763e22edfa737045475fd1246098e28db97c795ed355662b40bce87 contains `meta` values of unsupported types for the keys: _split_overlap. These items will be discarded. Supported types are: str, int, float, bool.\n",
            "WARNING:chromadb.segment.impl.metadata.sqlite:Insert of existing embedding ID: 5b0e4154e763e22edfa737045475fd1246098e28db97c795ed355662b40bce87\n",
            "WARNING:chromadb.segment.impl.vector.local_persistent_hnsw:Add of existing embedding ID: 5b0e4154e763e22edfa737045475fd1246098e28db97c795ed355662b40bce87\n",
            "WARNING:haystack_integrations.document_stores.chroma.document_store:Document 32bb436f25b30c4cfc57034853a392b22d8a18334830b59067b66038479de61e contains `meta` values of unsupported types for the keys: _split_overlap. These items will be discarded. Supported types are: str, int, float, bool.\n",
            "WARNING:chromadb.segment.impl.metadata.sqlite:Insert of existing embedding ID: 32bb436f25b30c4cfc57034853a392b22d8a18334830b59067b66038479de61e\n",
            "WARNING:chromadb.segment.impl.vector.local_persistent_hnsw:Add of existing embedding ID: 32bb436f25b30c4cfc57034853a392b22d8a18334830b59067b66038479de61e\n",
            "WARNING:haystack_integrations.document_stores.chroma.document_store:Document 5a7d906b0075c058367d562a97b7e2b03216100fb4f241aea8061dacf8814bd2 contains `meta` values of unsupported types for the keys: _split_overlap. These items will be discarded. Supported types are: str, int, float, bool.\n",
            "WARNING:chromadb.segment.impl.metadata.sqlite:Insert of existing embedding ID: 5a7d906b0075c058367d562a97b7e2b03216100fb4f241aea8061dacf8814bd2\n",
            "WARNING:chromadb.segment.impl.vector.local_persistent_hnsw:Add of existing embedding ID: 5a7d906b0075c058367d562a97b7e2b03216100fb4f241aea8061dacf8814bd2\n",
            "WARNING:haystack_integrations.document_stores.chroma.document_store:Document 025ac038834ca66e0ec3dab8ef01a102e3bee54e384a4ff48031c8ced53ee42f contains `meta` values of unsupported types for the keys: _split_overlap. These items will be discarded. Supported types are: str, int, float, bool.\n",
            "WARNING:chromadb.segment.impl.metadata.sqlite:Insert of existing embedding ID: 025ac038834ca66e0ec3dab8ef01a102e3bee54e384a4ff48031c8ced53ee42f\n",
            "WARNING:chromadb.segment.impl.vector.local_persistent_hnsw:Add of existing embedding ID: 025ac038834ca66e0ec3dab8ef01a102e3bee54e384a4ff48031c8ced53ee42f\n",
            "WARNING:haystack_integrations.document_stores.chroma.document_store:Document 400e91170eb096c40b05a186264f01d18ec520211ba2b6ce1a2e5112aa752d70 contains `meta` values of unsupported types for the keys: _split_overlap. These items will be discarded. Supported types are: str, int, float, bool.\n",
            "WARNING:chromadb.segment.impl.metadata.sqlite:Insert of existing embedding ID: 400e91170eb096c40b05a186264f01d18ec520211ba2b6ce1a2e5112aa752d70\n",
            "WARNING:chromadb.segment.impl.vector.local_persistent_hnsw:Add of existing embedding ID: 400e91170eb096c40b05a186264f01d18ec520211ba2b6ce1a2e5112aa752d70\n",
            "WARNING:haystack_integrations.document_stores.chroma.document_store:Document 8c2ded3105423b35e301c7e33ea0aa78a93b35084e7b20910f7d387e0973948a contains `meta` values of unsupported types for the keys: _split_overlap. These items will be discarded. Supported types are: str, int, float, bool.\n",
            "WARNING:chromadb.segment.impl.metadata.sqlite:Insert of existing embedding ID: 8c2ded3105423b35e301c7e33ea0aa78a93b35084e7b20910f7d387e0973948a\n",
            "WARNING:chromadb.segment.impl.vector.local_persistent_hnsw:Add of existing embedding ID: 8c2ded3105423b35e301c7e33ea0aa78a93b35084e7b20910f7d387e0973948a\n"
          ]
        },
        {
          "output_type": "execute_result",
          "data": {
            "text/plain": [
              "{'file_type_router': {'unclassified': [PosixPath('/content/drive/MyDrive/Colab Notebooks/OBZ Exam/Data Storage/a8i9w57wqoyi8fjxs9ulzk14e'),\n",
              "   PosixPath('/content/drive/MyDrive/Colab Notebooks/OBZ Exam/Data Storage/2oz8eti4z4twooufhuoruh8rw'),\n",
              "   PosixPath('/content/drive/MyDrive/Colab Notebooks/OBZ Exam/Data Storage/d9j378s9zze513ts3noxdx3lf'),\n",
              "   PosixPath('/content/drive/MyDrive/Colab Notebooks/OBZ Exam/Data Storage/2qo06b0yji7gk9r0emy6ews0e'),\n",
              "   PosixPath('/content/drive/MyDrive/Colab Notebooks/OBZ Exam/Data Storage/7vion8srg89ffkc518s5kgvg5'),\n",
              "   PosixPath('/content/drive/MyDrive/Colab Notebooks/OBZ Exam/Data Storage/bpjozp1uyx91l2qz29pdgjcpw.css'),\n",
              "   PosixPath('/content/drive/MyDrive/Colab Notebooks/OBZ Exam/Data Storage/4pi7vivqtppd21qxirh03sub0'),\n",
              "   PosixPath('/content/drive/MyDrive/Colab Notebooks/OBZ Exam/Data Storage/3dwppu0c34e20ignenu8ihgt7.css'),\n",
              "   PosixPath('/content/drive/MyDrive/Colab Notebooks/OBZ Exam/Data Storage/y41qzg45cwdddxb07wfr97dx'),\n",
              "   PosixPath('/content/drive/MyDrive/Colab Notebooks/OBZ Exam/Data Storage/c4kyodqsys0sfth6cu5ta9067.css'),\n",
              "   PosixPath('/content/drive/MyDrive/Colab Notebooks/OBZ Exam/Data Storage/2prctatb0utj2asob0cf7axhk.css'),\n",
              "   PosixPath('/content/drive/MyDrive/Colab Notebooks/OBZ Exam/Data Storage/ely5xpq8456m4kq0ovp4fb29d'),\n",
              "   PosixPath('/content/drive/MyDrive/Colab Notebooks/OBZ Exam/Data Storage/9talstjo4l5j4foo9kt5s1gdp'),\n",
              "   PosixPath('/content/drive/MyDrive/Colab Notebooks/OBZ Exam/Data Storage/8cn7bnnlf6j2m7k0zmxb77z4s'),\n",
              "   PosixPath('/content/drive/MyDrive/Colab Notebooks/OBZ Exam/Data Storage/san_miguel_corporation_logo.jpg'),\n",
              "   PosixPath('/content/drive/MyDrive/Colab Notebooks/OBZ Exam/Data Storage/ervrnm7fqre6cswswlpswa04o'),\n",
              "   PosixPath('/content/drive/MyDrive/Colab Notebooks/OBZ Exam/Data Storage/8pnowuighpouvar302wo3n8wx.css'),\n",
              "   PosixPath('/content/drive/MyDrive/Colab Notebooks/OBZ Exam/Data Storage/9uy2n780sk544atlpl95a0zzi.css'),\n",
              "   PosixPath('/content/drive/MyDrive/Colab Notebooks/OBZ Exam/Data Storage/938wf809gf0r18prnsl12vui6'),\n",
              "   PosixPath('/content/drive/MyDrive/Colab Notebooks/OBZ Exam/Data Storage/1702117293584.jpg'),\n",
              "   PosixPath('/content/drive/MyDrive/Colab Notebooks/OBZ Exam/Data Storage/cdy6wnr0x2a1f7vloogh7aac5'),\n",
              "   PosixPath('/content/drive/MyDrive/Colab Notebooks/OBZ Exam/Data Storage/avwt4e2dphrc63fky0q87jooz.css'),\n",
              "   PosixPath('/content/drive/MyDrive/Colab Notebooks/OBZ Exam/Data Storage/cpho5fghnpme8epox8rdcds22.svg'),\n",
              "   PosixPath('/content/drive/MyDrive/Colab Notebooks/OBZ Exam/Data Storage/46aqx0ieznwsnalyjokgz97ub'),\n",
              "   PosixPath('/content/drive/MyDrive/Colab Notebooks/OBZ Exam/Data Storage/6gq8mh0usmd9nlg83n02iy5bt'),\n",
              "   PosixPath('/content/drive/MyDrive/Colab Notebooks/OBZ Exam/Data Storage/bamvkwcobbx6v6waiy1d6s9m0.css'),\n",
              "   PosixPath('/content/drive/MyDrive/Colab Notebooks/OBZ Exam/Data Storage/oauil3lhtegi4jakdt2q1wuh.css'),\n",
              "   PosixPath('/content/drive/MyDrive/Colab Notebooks/OBZ Exam/Data Storage/1630634600340.jpg'),\n",
              "   PosixPath('/content/drive/MyDrive/Colab Notebooks/OBZ Exam/Data Storage/b46n42k7rwibkdovmw9zndj6p'),\n",
              "   PosixPath('/content/drive/MyDrive/Colab Notebooks/OBZ Exam/Data Storage/ems3gsw30uq9hsnqgdi3j2yr9.css'),\n",
              "   PosixPath('/content/drive/MyDrive/Colab Notebooks/OBZ Exam/Data Storage/9b647lt8h5i9rve8poqtng59l'),\n",
              "   PosixPath('/content/drive/MyDrive/Colab Notebooks/OBZ Exam/Data Storage/c768rojhbhfoc2r9q04ivty2c'),\n",
              "   PosixPath('/content/drive/MyDrive/Colab Notebooks/OBZ Exam/Data Storage/1718895849938.jpg'),\n",
              "   PosixPath('/content/drive/MyDrive/Colab Notebooks/OBZ Exam/Data Storage/159zdoynxjcsw7wg7q2jzdsn2.css'),\n",
              "   PosixPath('/content/drive/MyDrive/Colab Notebooks/OBZ Exam/Data Storage/1714531154331.jpg'),\n",
              "   PosixPath('/content/drive/MyDrive/Colab Notebooks/OBZ Exam/Data Storage/1673673926682.jpg'),\n",
              "   PosixPath('/content/drive/MyDrive/Colab Notebooks/OBZ Exam/Data Storage/22kezt7aoy41h75fhw2shwsqz'),\n",
              "   PosixPath('/content/drive/MyDrive/Colab Notebooks/OBZ Exam/Data Storage/b8o5un8ippdiwrp6ws478ozq7'),\n",
              "   PosixPath('/content/drive/MyDrive/Colab Notebooks/OBZ Exam/Data Storage/9kxgnrztdn2iyu9zl0lpv4lxv.css'),\n",
              "   PosixPath('/content/drive/MyDrive/Colab Notebooks/OBZ Exam/Data Storage/1718636116394.jpg'),\n",
              "   PosixPath('/content/drive/MyDrive/Colab Notebooks/OBZ Exam/Data Storage/ismy0jpj1sdfnru2mv0tt8ml.css'),\n",
              "   PosixPath('/content/drive/MyDrive/Colab Notebooks/OBZ Exam/Data Storage/33da513k4t67m9ztwvxn3ut6u'),\n",
              "   PosixPath('/content/drive/MyDrive/Colab Notebooks/OBZ Exam/Data Storage/1pc1alcv9megraie4leffw411.css'),\n",
              "   PosixPath('/content/drive/MyDrive/Colab Notebooks/OBZ Exam/Data Storage/bni97h4s6v8rqumfj4bwdsdr3.css'),\n",
              "   PosixPath('/content/drive/MyDrive/Colab Notebooks/OBZ Exam/Data Storage/4huba68totu7r3nx7fsu8787n.css'),\n",
              "   PosixPath('/content/drive/MyDrive/Colab Notebooks/OBZ Exam/Data Storage/abs_cbn_logo.jpg'),\n",
              "   PosixPath('/content/drive/MyDrive/Colab Notebooks/OBZ Exam/Data Storage/4v3yb3252ppr9v5s6prr383vg'),\n",
              "   PosixPath('/content/drive/MyDrive/Colab Notebooks/OBZ Exam/Data Storage/6hbkqijatfrsllrooubykgp1j.css'),\n",
              "   PosixPath('/content/drive/MyDrive/Colab Notebooks/OBZ Exam/Data Storage/1516933495519.jpg'),\n",
              "   PosixPath('/content/drive/MyDrive/Colab Notebooks/OBZ Exam/Data Storage/1675392906091.jpg'),\n",
              "   PosixPath('/content/drive/MyDrive/Colab Notebooks/OBZ Exam/Data Storage/4me61x2e0mcc9usvb8wx0ug4a.css'),\n",
              "   PosixPath('/content/drive/MyDrive/Colab Notebooks/OBZ Exam/Data Storage/b3h2p4engnyxsxjjq9fjxfmki.css'),\n",
              "   PosixPath('/content/drive/MyDrive/Colab Notebooks/OBZ Exam/Data Storage/5od5zselg48u6sl1hvxirjemy.css'),\n",
              "   PosixPath('/content/drive/MyDrive/Colab Notebooks/OBZ Exam/Data Storage/1pmcvkd7swska1n6cpztjzgpv.css'),\n",
              "   PosixPath('/content/drive/MyDrive/Colab Notebooks/OBZ Exam/Data Storage/1559179338889.jpg'),\n",
              "   PosixPath('/content/drive/MyDrive/Colab Notebooks/OBZ Exam/Data Storage/epwwv9ovc3fe4nkeel9sm2vyw'),\n",
              "   PosixPath('/content/drive/MyDrive/Colab Notebooks/OBZ Exam/Data Storage/48lp95ize1hlfo9c9g41bgp2x'),\n",
              "   PosixPath('/content/drive/MyDrive/Colab Notebooks/OBZ Exam/Data Storage/dw0sfb5njg1jfcz6chlrg5s57.css'),\n",
              "   PosixPath('/content/drive/MyDrive/Colab Notebooks/OBZ Exam/Data Storage/arstnpc48p729h01vdm9a2nac'),\n",
              "   PosixPath('/content/drive/MyDrive/Colab Notebooks/OBZ Exam/Data Storage/1660003008691.jpg'),\n",
              "   PosixPath('/content/drive/MyDrive/Colab Notebooks/OBZ Exam/Data Storage/bqqv6vu2jbjp2ag4sny203fi0'),\n",
              "   PosixPath('/content/drive/MyDrive/Colab Notebooks/OBZ Exam/Data Storage/ateneo_de_manila_university_logo.jpg'),\n",
              "   PosixPath('/content/drive/MyDrive/Colab Notebooks/OBZ Exam/Data Storage/bux70chpzsbzywjouy8rl8p0q.css'),\n",
              "   PosixPath('/content/drive/MyDrive/Colab Notebooks/OBZ Exam/Data Storage/bdo_unibank_logo.jpg'),\n",
              "   PosixPath('/content/drive/MyDrive/Colab Notebooks/OBZ Exam/Data Storage/1719286165179.jpg'),\n",
              "   PosixPath('/content/drive/MyDrive/Colab Notebooks/OBZ Exam/Data Storage/451m2211lysbpr30fxcrgjexn'),\n",
              "   PosixPath('/content/drive/MyDrive/Colab Notebooks/OBZ Exam/Data Storage/1er8lzacsgf20km6u3rranv4e'),\n",
              "   PosixPath('/content/drive/MyDrive/Colab Notebooks/OBZ Exam/Data Storage/eih8vgt6bvb2fqgv7at70ay9v'),\n",
              "   PosixPath('/content/drive/MyDrive/Colab Notebooks/OBZ Exam/Data Storage/4kkkrib7x4ubu58rz9190cax4'),\n",
              "   PosixPath('/content/drive/MyDrive/Colab Notebooks/OBZ Exam/Data Storage/8hg4pe24toserf8gs7tgaefan.css'),\n",
              "   PosixPath('/content/drive/MyDrive/Colab Notebooks/OBZ Exam/Data Storage/1632162562509.jpg'),\n",
              "   PosixPath('/content/drive/MyDrive/Colab Notebooks/OBZ Exam/Data Storage/8tve1o2yqgryq8wxbaf3q8sds.css'),\n",
              "   PosixPath('/content/drive/MyDrive/Colab Notebooks/OBZ Exam/Data Storage/1617724872172.jpg'),\n",
              "   PosixPath('/content/drive/MyDrive/Colab Notebooks/OBZ Exam/Data Storage/49z3lf7yjp58c9akkb8fehl40.svg'),\n",
              "   PosixPath('/content/drive/MyDrive/Colab Notebooks/OBZ Exam/Data Storage/bpj7j23zixfggs7vvsaeync9j'),\n",
              "   PosixPath('/content/drive/MyDrive/Colab Notebooks/OBZ Exam/Data Storage/efo6nvmh0ozlk7tjouxsthtnk'),\n",
              "   PosixPath('/content/drive/MyDrive/Colab Notebooks/OBZ Exam/Data Storage/2ha2yg4uayl5wbduwl2xjsp3n'),\n",
              "   PosixPath('/content/drive/MyDrive/Colab Notebooks/OBZ Exam/Data Storage/8lxdiib1n1jkod3zpbyevekja'),\n",
              "   PosixPath('/content/drive/MyDrive/Colab Notebooks/OBZ Exam/Data Storage/7nsxcoo5l944cexb2menj20ge'),\n",
              "   PosixPath('/content/drive/MyDrive/Colab Notebooks/OBZ Exam/Data Storage/5r5xejfkz4j5eaxagn5oce4kk'),\n",
              "   PosixPath('/content/drive/MyDrive/Colab Notebooks/OBZ Exam/Data Storage/cn0d4yfwb1q8ez0uk41b75qu0.css'),\n",
              "   PosixPath('/content/drive/MyDrive/Colab Notebooks/OBZ Exam/Data Storage/604temtnpdy78fouret733sh3'),\n",
              "   PosixPath('/content/drive/MyDrive/Colab Notebooks/OBZ Exam/Data Storage/coa7f3ykpl4n59lxspa6n42h5'),\n",
              "   PosixPath('/content/drive/MyDrive/Colab Notebooks/OBZ Exam/Data Storage/1715632683676.jpg'),\n",
              "   PosixPath('/content/drive/MyDrive/Colab Notebooks/OBZ Exam/Data Storage/db05fgvyq7n2ng4fiexgf4hcq.svg'),\n",
              "   PosixPath('/content/drive/MyDrive/Colab Notebooks/OBZ Exam/Data Storage/8s0qk68uuom1579t0xxg4cywx'),\n",
              "   PosixPath('/content/drive/MyDrive/Colab Notebooks/OBZ Exam/Data Storage/74j66rsxfsxvpb8mbsdzckqud'),\n",
              "   PosixPath('/content/drive/MyDrive/Colab Notebooks/OBZ Exam/Data Storage/1635992785008.jpg'),\n",
              "   PosixPath('/content/drive/MyDrive/Colab Notebooks/OBZ Exam/Data Storage/1704023197567.jpg'),\n",
              "   PosixPath('/content/drive/MyDrive/Colab Notebooks/OBZ Exam/Data Storage/37jsdq5pmehepql77c939e31y.css'),\n",
              "   PosixPath('/content/drive/MyDrive/Colab Notebooks/OBZ Exam/Data Storage/a17lcc2l9ct18pz7jojevplk5'),\n",
              "   PosixPath('/content/drive/MyDrive/Colab Notebooks/OBZ Exam/Data Storage/bfimeo96b7yzi0eum97pdvyfl.css'),\n",
              "   PosixPath('/content/drive/MyDrive/Colab Notebooks/OBZ Exam/Data Storage/55chxt9t3tzkdy9bxuf18l0ra'),\n",
              "   PosixPath('/content/drive/MyDrive/Colab Notebooks/OBZ Exam/Data Storage/krb4e6ryxwydbjm0q9gm66as.css'),\n",
              "   PosixPath('/content/drive/MyDrive/Colab Notebooks/OBZ Exam/Data Storage/7sgnftvcdux1r4ap5d8uobvn8.css'),\n",
              "   PosixPath('/content/drive/MyDrive/Colab Notebooks/OBZ Exam/Data Storage/22mqr25vvbsa454cyq7gc8kcy'),\n",
              "   PosixPath('/content/drive/MyDrive/Colab Notebooks/OBZ Exam/Data Storage/1597281672933.jpg'),\n",
              "   PosixPath('/content/drive/MyDrive/Colab Notebooks/OBZ Exam/Data Storage/448pwj85ceturxmaxnb96x72.css'),\n",
              "   PosixPath('/content/drive/MyDrive/Colab Notebooks/OBZ Exam/Data Storage/mdt.js'),\n",
              "   PosixPath('/content/drive/MyDrive/Colab Notebooks/OBZ Exam/Data Storage/1719286165211.jpg'),\n",
              "   PosixPath('/content/drive/MyDrive/Colab Notebooks/OBZ Exam/Data Storage/988vmt8bv2rfmpquw6nnswc5t'),\n",
              "   PosixPath('/content/drive/MyDrive/Colab Notebooks/OBZ Exam/Data Storage/3akwurpy0o6uri4yyaextbxgv'),\n",
              "   PosixPath('/content/drive/MyDrive/Colab Notebooks/OBZ Exam/Data Storage/3zkhbyqbmoarnfx6xcmv95m8t'),\n",
              "   PosixPath('/content/drive/MyDrive/Colab Notebooks/OBZ Exam/Data Storage/1aqbts7daega7u3d3o4iayy4j.css'),\n",
              "   PosixPath('/content/drive/MyDrive/Colab Notebooks/OBZ Exam/Data Storage/1631313207999.jpg'),\n",
              "   PosixPath('/content/drive/MyDrive/Colab Notebooks/OBZ Exam/Data Storage/4ka183qts3b2jugw44owh7eq0.css'),\n",
              "   PosixPath('/content/drive/MyDrive/Colab Notebooks/OBZ Exam/Data Storage/4gjcxm2c9s9g3njslbvka15bb.css'),\n",
              "   PosixPath('/content/drive/MyDrive/Colab Notebooks/OBZ Exam/Data Storage/cap0flrgrvw4wl23e9xmrd4n'),\n",
              "   PosixPath('/content/drive/MyDrive/Colab Notebooks/OBZ Exam/Data Storage/7g9n6j8n0fkqjv6w6dqcsv9yo'),\n",
              "   PosixPath('/content/drive/MyDrive/Colab Notebooks/OBZ Exam/Data Storage/1715351625812.jpg'),\n",
              "   PosixPath('/content/drive/MyDrive/Colab Notebooks/OBZ Exam/Data Storage/b1dl5jk88euc7e9ri50xy5qo8.svg'),\n",
              "   PosixPath('/content/drive/MyDrive/Colab Notebooks/OBZ Exam/Data Storage/globe_telecom_logo.jpg'),\n",
              "   PosixPath('/content/drive/MyDrive/Colab Notebooks/OBZ Exam/Data Storage/azk3kn1b8uhw01v21v8sk0uba'),\n",
              "   PosixPath('/content/drive/MyDrive/Colab Notebooks/OBZ Exam/Data Storage/eeh1mk0hjdo11tvsx7s21ndc4.css'),\n",
              "   PosixPath('/content/drive/MyDrive/Colab Notebooks/OBZ Exam/Data Storage/8emys54ukznvvxheiwt4b6wvd'),\n",
              "   PosixPath('/content/drive/MyDrive/Colab Notebooks/OBZ Exam/Data Storage/8ekq8gho1ruaf8i7f86vd1ftt.svg'),\n",
              "   PosixPath('/content/drive/MyDrive/Colab Notebooks/OBZ Exam/Data Storage/1539676533025.jpg'),\n",
              "   PosixPath('/content/drive/MyDrive/Colab Notebooks/OBZ Exam/Data Storage/4oh9r66yxuaqvezedncxmyowe.css'),\n",
              "   PosixPath('/content/drive/MyDrive/Colab Notebooks/OBZ Exam/Data Storage/1720019818488.jpg'),\n",
              "   PosixPath('/content/drive/MyDrive/Colab Notebooks/OBZ Exam/Data Storage/a_004.htm'),\n",
              "   PosixPath('/content/drive/MyDrive/Colab Notebooks/OBZ Exam/Data Storage/1662731707022.jpg'),\n",
              "   PosixPath('/content/drive/MyDrive/Colab Notebooks/OBZ Exam/Data Storage/a_003.htm'),\n",
              "   PosixPath('/content/drive/MyDrive/Colab Notebooks/OBZ Exam/Data Storage/a_002.htm'),\n",
              "   PosixPath('/content/drive/MyDrive/Colab Notebooks/OBZ Exam/Data Storage/a_005.htm'),\n",
              "   PosixPath('/content/drive/MyDrive/Colab Notebooks/OBZ Exam/Data Storage/5yq4xempw18gq7e53029btyfm'),\n",
              "   PosixPath('/content/drive/MyDrive/Colab Notebooks/OBZ Exam/Data Storage/index.htm'),\n",
              "   PosixPath('/content/drive/MyDrive/Colab Notebooks/OBZ Exam/Data Storage/1719321164802.jpg'),\n",
              "   PosixPath('/content/drive/MyDrive/Colab Notebooks/OBZ Exam/Data Storage/a.htm'),\n",
              "   PosixPath('/content/drive/MyDrive/Colab Notebooks/OBZ Exam/Data Storage/output.css'),\n",
              "   PosixPath('/content/drive/MyDrive/Colab Notebooks/OBZ Exam/Data Storage/pr3_D66358CCC9D6C20D7C9D.jpg'),\n",
              "   PosixPath('/content/drive/MyDrive/Colab Notebooks/OBZ Exam/Data Storage/css.css'),\n",
              "   PosixPath('/content/drive/MyDrive/Colab Notebooks/OBZ Exam/Data Storage/pr2_872F4FC13EB2D137C14F.jpg'),\n",
              "   PosixPath('/content/drive/MyDrive/Colab Notebooks/OBZ Exam/Data Storage/inter.css'),\n",
              "   PosixPath('/content/drive/MyDrive/Colab Notebooks/OBZ Exam/Data Storage/pr0_743669FB8333D797EC68.jpg'),\n",
              "   PosixPath('/content/drive/MyDrive/Colab Notebooks/OBZ Exam/Data Storage/pr1_E111E9FA2AD46F029940.jpg'),\n",
              "   PosixPath('/content/drive/MyDrive/Colab Notebooks/OBZ Exam/Data Storage/pr4_7761D039B46E98644773.jpg'),\n",
              "   PosixPath('/content/drive/MyDrive/Colab Notebooks/OBZ Exam/Data Storage/pr0_F5BDF62B474521BD91DA.jpg'),\n",
              "   PosixPath('/content/drive/MyDrive/Colab Notebooks/OBZ Exam/Data Storage/Osh San Juan _ Data Scientist and Teller of Stories _ Data portfolio.htm'),\n",
              "   PosixPath('/content/drive/MyDrive/Colab Notebooks/OBZ Exam/Data Storage/(21) Joshua Victor (Osh) San Juan _ LinkedIn.htm'),\n",
              "   PosixPath('/content/drive/MyDrive/Colab Notebooks/OBZ Exam/Data Storage/chromaDB'),\n",
              "   PosixPath('/content/drive/MyDrive/Colab Notebooks/OBZ Exam/Data Storage/chromaDB/07f0147a-e70f-4eca-be0a-28cff2ad4140'),\n",
              "   PosixPath('/content/drive/MyDrive/Colab Notebooks/OBZ Exam/Data Storage/chromaDB/chroma.sqlite3'),\n",
              "   PosixPath('/content/drive/MyDrive/Colab Notebooks/OBZ Exam/Data Storage/chromaDB/07f0147a-e70f-4eca-be0a-28cff2ad4140/header.bin'),\n",
              "   PosixPath('/content/drive/MyDrive/Colab Notebooks/OBZ Exam/Data Storage/chromaDB/07f0147a-e70f-4eca-be0a-28cff2ad4140/data_level0.bin'),\n",
              "   PosixPath('/content/drive/MyDrive/Colab Notebooks/OBZ Exam/Data Storage/chromaDB/07f0147a-e70f-4eca-be0a-28cff2ad4140/link_lists.bin'),\n",
              "   PosixPath('/content/drive/MyDrive/Colab Notebooks/OBZ Exam/Data Storage/chromaDB/07f0147a-e70f-4eca-be0a-28cff2ad4140/length.bin')]},\n",
              " 'document_writer': {'documents_written': 11}}"
            ]
          },
          "metadata": {},
          "execution_count": 12
        }
      ]
    },
    {
      "cell_type": "markdown",
      "source": [
        "# Building the Query Pipeline\n",
        "\n",
        "Now that our Indexing Pipeline is setup, we move onto creating our Query Pipeline, where we setup the LLM that will interacting with our data storage, and answering questions based on the context we provide.\n",
        "\n",
        "## Embedder\n",
        "\n",
        "We set up an embedder to convert our documents into vector representations, which our LLM (Large Language Model) can process and understand. The embedder we're using, the SentenceTransformersTextEmbedder, requires a Hugging Face API key since the model is hosted on Hugging Face's platform. I securely stored my API key in the environment and accessed it as an environment variable, ensuring smooth access to the embedding model.\n",
        "\n",
        "you can run the `warm_up()` to see if the embedder is working properly."
      ],
      "metadata": {
        "id": "-vIATe_jWilv"
      }
    },
    {
      "cell_type": "code",
      "source": [
        "from haystack.components.embedders import SentenceTransformersDocumentEmbedder\n",
        "from haystack.components.embedders import SentenceTransformersTextEmbedder\n",
        "\n",
        "os.environ[\"HF_TOKEN\"] = userdata.get(\"HF_TOKEN\")\n",
        "embedder = SentenceTransformersTextEmbedder(\n",
        "    model=\"sentence-transformers/all-MiniLM-L6-v2\"\n",
        "    )\n",
        "# embedder.warm_up()"
      ],
      "metadata": {
        "id": "TyfWqlaAV94Z"
      },
      "execution_count": null,
      "outputs": []
    },
    {
      "cell_type": "markdown",
      "source": [
        "## Retriever\n",
        "\n",
        "Our choice of retriever is limited as we have to match it to our choice of data storage, in this case we make use of the `ChromaEmbeddingRetriever`."
      ],
      "metadata": {
        "id": "tKbqgCiSX3oQ"
      }
    },
    {
      "cell_type": "code",
      "source": [
        "from haystack_integrations.components.retrievers.chroma import ChromaEmbeddingRetriever\n",
        "retriever = ChromaEmbeddingRetriever(document_store=document_store)"
      ],
      "metadata": {
        "id": "yzvw7DI5X3Pu"
      },
      "execution_count": null,
      "outputs": []
    },
    {
      "cell_type": "markdown",
      "source": [
        "## Template\n",
        "\n",
        "We need to build prompts for interacting with LLMs  and so we import the `PromptBuilder` from haystack.\n",
        "\n",
        "It makes use of the Jinja Template as its structure, it is a set of placeholders that are filled when the the template is used. The full documentation for Jinja can be found [here](https://jinja.palletsprojects.com/en/3.0.x/templates/)"
      ],
      "metadata": {
        "id": "bS2o1g34YLTI"
      }
    },
    {
      "cell_type": "code",
      "source": [
        "from haystack.components.builders import PromptBuilder\n",
        "\n",
        "template = \"\"\"\n",
        "You are designed to answer questions about a potential candidate for the position of\n",
        "Junior AI Engineer at OneByZero. Use the information provided to you to answer these questions\n",
        "to the best of your ability to speak about the candidate.\n",
        "\n",
        "Context:\n",
        "{% for document in documents %}\n",
        "    {{ document.content }}\n",
        "{% endfor %}\n",
        "\n",
        "Question: {{ question }}\n",
        "Answer:\n",
        "\"\"\"\n",
        "\n",
        "prompt_builder = PromptBuilder(template=template)"
      ],
      "metadata": {
        "id": "8OoNzV32aMtk"
      },
      "execution_count": null,
      "outputs": []
    },
    {
      "cell_type": "markdown",
      "source": [
        "# Generator\n",
        "\n",
        "Haystack makes use of several llms, seeing as we're working primarily on Colab, I'll be making use of Gemini (that and it's free, sorry OpenAI). Specifically I made use of `gemini-1.5-flash` model.\n",
        "\n",
        "We import the `GoogleAIGeminiGenerator from Haystack, setup the necessary API Key and place the model in its parameters."
      ],
      "metadata": {
        "id": "yyzbA57oaWOm"
      }
    },
    {
      "cell_type": "code",
      "source": [
        "#Remember to get the Gemini dependency\n",
        "from haystack_integrations.components.generators.google_ai import GoogleAIGeminiGenerator\n",
        "os.environ[\"GOOGLE_API_KEY\"] = userdata.get(\"GOOGLE_API_KEY\")\n",
        "\n",
        "generator = GoogleAIGeminiGenerator(model=\"gemini-1.5-flash\")"
      ],
      "metadata": {
        "id": "Rzh8BqLkbNuI"
      },
      "execution_count": null,
      "outputs": []
    },
    {
      "cell_type": "markdown",
      "source": [
        "## Putting the Query Pipeline together\n",
        "\n",
        "With all the parts ready we instantiate and connec them like our Indexing Pipeline."
      ],
      "metadata": {
        "id": "S6gZRPdrbXxl"
      }
    },
    {
      "cell_type": "code",
      "source": [
        "#Instantiate the RAG pipeline\n",
        "query_pipeline = Pipeline()\n",
        "query_pipeline.add_component(\"embedder\", embedder)\n",
        "query_pipeline.add_component(\"retriever\", retriever)\n",
        "query_pipeline.add_component(\"prompt_builder\", prompt_builder)\n",
        "query_pipeline.add_component(\"llm\", generator)\n",
        "\n",
        "#connect them\n",
        "query_pipeline.connect(\"embedder.embedding\", \"retriever.query_embedding\")\n",
        "query_pipeline.connect(\"retriever\", \"prompt_builder.documents\")\n",
        "query_pipeline.connect(\"prompt_builder.prompt\", \"llm\")"
      ],
      "metadata": {
        "colab": {
          "base_uri": "https://localhost:8080/"
        },
        "id": "klKZyIepaSnt",
        "outputId": "3110f59a-21a6-4e39-a27a-0019be913b88"
      },
      "execution_count": null,
      "outputs": [
        {
          "output_type": "execute_result",
          "data": {
            "text/plain": [
              "<haystack.core.pipeline.pipeline.Pipeline object at 0x79a76178fe80>\n",
              "🚅 Components\n",
              "  - embedder: SentenceTransformersTextEmbedder\n",
              "  - retriever: ChromaEmbeddingRetriever\n",
              "  - prompt_builder: PromptBuilder\n",
              "  - llm: GoogleAIGeminiGenerator\n",
              "🛤️ Connections\n",
              "  - embedder.embedding -> retriever.query_embedding (List[float])\n",
              "  - retriever.documents -> prompt_builder.documents (List[Document])\n",
              "  - prompt_builder.prompt -> llm.parts (str)"
            ]
          },
          "metadata": {},
          "execution_count": 17
        }
      ]
    },
    {
      "cell_type": "markdown",
      "source": [
        "The whole pipeline is complete at this point, and we can test it out. Let's start by asking something simple like who is the job candidate."
      ],
      "metadata": {
        "id": "5foP7N3JcsnT"
      }
    },
    {
      "cell_type": "code",
      "source": [
        "question = (\n",
        "    \"Who is the candidate for the position?\"\n",
        "    )\n",
        "response = query_pipeline.run(\n",
        "    {\n",
        "        \"embedder\": {\"text\": question},\n",
        "        \"prompt_builder\": {\"question\": question}\n",
        "    }\n",
        ")\n",
        "response[\"llm\"][\"replies\"][0]"
      ],
      "metadata": {
        "colab": {
          "base_uri": "https://localhost:8080/",
          "height": 87,
          "referenced_widgets": [
            "ff960a7284914a9baec96377d66b9f1e",
            "37b0a49ee42f420fbbd0bfbfd7733fd8",
            "843277ff968240beb207fdd8fe847e93",
            "dba44b6ba8334a18b1d098ab9167cb4a",
            "0891929314f74d83a53978c9bee5bb62",
            "bf66c5ea1f7d4324a27a7309203825bd",
            "79a3935417824c39827094ce8c5629af",
            "35e65f1b2d714b2d9a5e372a17cc92cb",
            "3b425f71771a4ce0a2dbf498396cfd3e",
            "d1f1e6c808014fb8a1b953576969201d",
            "677e5a05159541b39460bd1fe1b1b517"
          ]
        },
        "id": "2YMkXc0Kcpl7",
        "outputId": "f1a199ce-ffc4-4c04-cbae-fbec4a86a1fe"
      },
      "execution_count": null,
      "outputs": [
        {
          "output_type": "display_data",
          "data": {
            "text/plain": [
              "Batches:   0%|          | 0/1 [00:00<?, ?it/s]"
            ],
            "application/vnd.jupyter.widget-view+json": {
              "version_major": 2,
              "version_minor": 0,
              "model_id": "ff960a7284914a9baec96377d66b9f1e"
            }
          },
          "metadata": {}
        },
        {
          "output_type": "execute_result",
          "data": {
            "text/plain": [
              "'The candidate for the Junior AI Engineer position at OneByZero is **Joshua Victor C. San Juan**. \\n'"
            ],
            "application/vnd.google.colaboratory.intrinsic+json": {
              "type": "string"
            }
          },
          "metadata": {},
          "execution_count": 18
        }
      ]
    },
    {
      "cell_type": "markdown",
      "source": [
        "That's a bit hard to read, but it got the job done. We're ready to place it on our demo application.\n",
        "\n",
        "For the purposes of this demonstration we'll be making use of Gradio as I found it to be most compatible with a Haystack pipeline.\n",
        "\n",
        "However, before we place our pipeline onto Gradio we just need to add one last feature.\n",
        "\n",
        "## Chat history\n",
        "\n",
        "If you go back to our initial `query_pipeline` and ask it to tell you what the previous question was, our model will not be able to answer because it is not part of its context window.\n",
        "\n",
        "To account for this we add a `chat_history` to store the previous messages and adjust our pipeline a little to account for this, we start referring to it as a prompt since, we account not just for the question but also the chat history."
      ],
      "metadata": {
        "id": "f4bMWzSGdFXP"
      }
    },
    {
      "cell_type": "code",
      "source": [
        "# Initialize an empty list to store chat history\n",
        "chat_history = []\n",
        "\n",
        "def generate_answer(message, history):\n",
        "    # Add the current message to the chat history\n",
        "    chat_history.extend([(\"user\", message)])\n",
        "\n",
        "    # Include history in the prompt (adjust as needed)\n",
        "    prompt = f\"\"\"\n",
        "    ## Chat History:\n",
        "    {format_history(history)}\n",
        "\n",
        "    ## User's Question:\n",
        "    {message}\n",
        "    \"\"\"\n",
        "\n",
        "    result = query_pipeline.run(\n",
        "        {\n",
        "            \"embedder\": {\"text\": str(prompt)},  # Embed the prompt with history\n",
        "            \"prompt_builder\": {\"question\": prompt}\n",
        "        }\n",
        "    )\n",
        "\n",
        "    answer = result[\"llm\"][\"replies\"][0]\n",
        "\n",
        "    # Add the answer to the chat history\n",
        "    chat_history.extend([(\"assistant\", answer)])\n",
        "\n",
        "    # Return only the answer, Gradio handles history\n",
        "    return answer  # or answer, history\n",
        "\n",
        "def format_history(history):\n",
        "    \"\"\"Formats the chat history for the prompt.\"\"\"\n",
        "    formatted_history = \"\"\n",
        "    for role, content in history:\n",
        "        formatted_history += f\"{role.capitalize()}: {content}\\n\"\n",
        "    return formatted_history"
      ],
      "metadata": {
        "id": "FiuPb9PncAhA"
      },
      "execution_count": null,
      "outputs": []
    },
    {
      "cell_type": "markdown",
      "source": [
        "# Deployment Demo with Gradio\n",
        "\n",
        "The model is ready to be deployed and thankfully Gradio provides a `ChatInterface()` to go with our very own RAG AI application.\n",
        "\n",
        "Let's import it first, and then set it up.\n"
      ],
      "metadata": {
        "id": "ciTfutsQgUTd"
      }
    },
    {
      "cell_type": "code",
      "source": [
        "#Make sure to import it first\n",
        "import gradio as gr\n",
        "\n",
        "#Setting up the Chatbot Interface\n",
        "chatbot_with_gemini = gr.ChatInterface(\n",
        "    generate_answer,\n",
        "    chatbot=gr.Chatbot(height=300),\n",
        "    textbox=gr.Textbox(placeholder='Ask me a question about this candidate', container=False, scale=7),\n",
        "    title=\"RAG AI Chatbot powered by Gemini\",\n",
        "    description=\"Ask me about Osh and his qualifications\",\n",
        "    theme=\"soft\",\n",
        "    examples=[\n",
        "        \"What is his work experience?\",\n",
        "        \"What is his education?\",\n",
        "        \"What are his skills?\",\n",
        "    ],\n",
        "    cache_examples=False,\n",
        "    submit_btn=\"Ask\",\n",
        "    multimodal=True\n",
        ")"
      ],
      "metadata": {
        "colab": {
          "base_uri": "https://localhost:8080/"
        },
        "id": "x_lokWVcckTL",
        "outputId": "0458c795-0843-44b9-81cc-0170748ea6aa"
      },
      "execution_count": null,
      "outputs": [
        {
          "output_type": "stream",
          "name": "stderr",
          "text": [
            "/usr/local/lib/python3.10/dist-packages/gradio/components/chatbot.py:222: UserWarning: You have not specified a value for the `type` parameter. Defaulting to the 'tuples' format for chatbot messages, but this is deprecated and will be removed in a future version of Gradio. Please set type='messages' instead, which uses openai-style 'role' and 'content' keys.\n",
            "  warnings.warn(\n"
          ]
        }
      ]
    },
    {
      "cell_type": "markdown",
      "source": [
        "A lot of the parameters are mostly for aesthetic reasons, what's important for this is the first one, `generate_answer` which is our function that calls on the LLM to answer the queries.\n",
        "\n",
        "Now let's launch it and try it out.\n",
        "\n",
        "We don't have to set `debut=True` but incase anything goes wrong, at least we'll have an idea of why it happened."
      ],
      "metadata": {
        "id": "zgXZv5kUhPuK"
      }
    },
    {
      "cell_type": "code",
      "source": [
        "chatbot_with_gemini.launch(debug=True)"
      ],
      "metadata": {
        "colab": {
          "base_uri": "https://localhost:8080/",
          "height": 647
        },
        "id": "rka3jsD3hPXG",
        "outputId": "cec1daf1-cf7f-4908-9d32-0f6f68869008"
      },
      "execution_count": null,
      "outputs": [
        {
          "output_type": "stream",
          "name": "stdout",
          "text": [
            "Running Gradio in a Colab notebook requires sharing enabled. Automatically setting `share=True` (you can turn this off by setting `share=False` in `launch()` explicitly).\n",
            "\n",
            "Colab notebook detected. This cell will run indefinitely so that you can see errors and logs. To turn off, set debug=False in launch().\n",
            "* Running on public URL: https://6a4d984009c9cc1441.gradio.live\n",
            "\n",
            "This share link expires in 72 hours. For free permanent hosting and GPU upgrades, run `gradio deploy` from the terminal in the working directory to deploy to Hugging Face Spaces (https://huggingface.co/spaces)\n"
          ]
        },
        {
          "output_type": "display_data",
          "data": {
            "text/plain": [
              "<IPython.core.display.HTML object>"
            ],
            "text/html": [
              "<div><iframe src=\"https://6a4d984009c9cc1441.gradio.live\" width=\"100%\" height=\"500\" allow=\"autoplay; camera; microphone; clipboard-read; clipboard-write;\" frameborder=\"0\" allowfullscreen></iframe></div>"
            ]
          },
          "metadata": {}
        }
      ]
    },
    {
      "cell_type": "markdown",
      "source": [
        "And there we have it a full RAG pipeline.\n",
        "\n",
        "# Methods for Evaluation\n",
        "\n",
        "To evaluate this pipeline, there are several metrics, I'll be taking mine from those suggested by Haystack [here](https://haystack.deepset.ai/tutorials/35_evaluating_rag_pipelines) ,as they do provide functions to create an evaluation pipeline (which I may add in the near future).\n",
        "\n",
        "\n",
        "\n",
        "*   **Document Mean Reciprocal** : This evaluates the documents the model pulls from the storage and checks how they were ranked.\n",
        "*   **Semantic Answer Similarity**: This checks if the answer provided shares similar semantics to the document it pulled.\n",
        "*   **Faithfulness**: Makes use of an LLM to check if the answer can be inferred from the context (does not need ground truth labels\n",
        "\n",
        "\n",
        "\n",
        "\n",
        "\n",
        "\n"
      ],
      "metadata": {
        "id": "sOATNm0JhetQ"
      }
    },
    {
      "cell_type": "code",
      "source": [],
      "metadata": {
        "id": "_lHet8T6kF0R"
      },
      "execution_count": null,
      "outputs": []
    },
    {
      "cell_type": "markdown",
      "source": [],
      "metadata": {
        "id": "4o0UU1BFhB7A"
      }
    }
  ]
}